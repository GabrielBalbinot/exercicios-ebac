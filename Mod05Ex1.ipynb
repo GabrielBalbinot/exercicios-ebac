{
 "cells": [
  {
   "cell_type": "markdown",
   "metadata": {
    "id": "bj9dbBxk4PUd"
   },
   "source": [
    "# Módulo 5 Tarefa 1\n",
    "## Base de nascidos vivos do DataSUS\n",
    "O DataSUS disponibiliza diversos arquivos de dados com relação a seus segurados, conforme a [lei da transparência de informações públicas](https://www.sisgov.com/transparencia-acesso-informacao/#:~:text=A%20Lei%20da%20Transpar%C3%AAncia%20(LC,em%20um%20site%20na%20internet.). \n",
    "\n",
    "Essas informações podem ser obtidas pela internet [aqui](http://www2.datasus.gov.br/DATASUS/index.php?area=0901&item=1). Como o processo de obtenção desses arquivos foge um pouco do nosso escopo, deixamos o arquivo ```SINASC_RO_2019.csv``` já como vai ser encontrado no DataSUS. O dicionário de dados está no arquivo ```estrutura_sinasc_para_CD.pdf``` (o nome do arquivo tal qual no portal do DataSUS).\n",
    "\n",
    "### Nosso objetivo\n",
    "Queremos deixar uma base organizada para podermos estudar a relação entre partos com risco para o bebê e algumas condições como tempo de parto, consultas de pré-natal etc.\n",
    "\n",
    "#### Preparação da base\n",
    "1. Carregue a base 'SINASC_RO_2019.csv'. Conte o número de registros e o número de registros não duplicados da base. Dica: você aprendeu um método que remove duplicados, encadeie este método com um outro método que conta o número de linhas. **Há linhas duplicadas?**  \n",
    "\n",
    "2. Conte o número de valores *missing* por variável.  \n",
    "\n",
    "3. Ok, no item anterior você deve ter achado pouco prático ler a informação de tantas variáveis, muitas delas nem devem ser interesantes. Então crie uma seleção dessa base somente com as colunas que interessam. São elas:\n",
    "``` \n",
    "['LOCNASC', 'IDADEMAE', 'ESTCIVMAE', 'ESCMAE', 'QTDFILVIVO', \n",
    "    'GESTACAO', 'GRAVIDEZ', 'CONSULTAS', 'APGAR5'] \n",
    "```\n",
    "Refaça a contagem de valores *missings*.  \n",
    "\n",
    "4. Apgar é uma *nota* que o pediatra dá ao bebê quando nasce de acordo com algumas características associadas principalmente à respiração. Apgar 1 e Apgar 5 são as notas 1 e 5 minutos do nascimento. Apgar5 será a nossa variável de interesse principal. Então remova todos os registros com Apgar5 não preenchido. Para esta seleção, conte novamente o número de linhas e o número de *missings*.  \n",
    "\n",
    "5. observe que as variáveis ```['ESTCIVMAE', 'CONSULTAS']``` possuem o código ```9```, que significa *ignorado*. Vamos assumir que o não preenchido é o mesmo que o código ```9```.<br>\n",
    "6. Substitua os valores faltantes da quantitativa (```QTDFILVIVO```) por zero.  \n",
    "7. Das restantes, decida que valore te parece mais adequado (um 'não preenchido' ou um valor 'mais provável' como no item anterior) e preencha. Justifique. Lembre-se de que tratamento de dados é trabalho do cientista, e que estamos tomando decisões a todo o momento - não há necessariamente certo e errado aqui.  \n",
    "8. O Apgar possui uma classificação indicando se o bebê passou por asfixia:\n",
    "- Entre 8 e 10 está em uma faixa 'normal'. \n",
    "- Entre 6 e 7, significa que o recém-nascido passou por 'asfixia leve'. \n",
    "- Entre 4 e 5 significa 'asfixia moderada'.\n",
    "- Entre 0 e 3 significa 'asfixia severa'.  \n",
    "\n",
    "Crie uma categorização dessa variável com essa codificação e calcule as frequências dessa categorização.  \n",
    "<br>\n",
    "9. Renomeie as variáveis para que fiquem no *snake case*, ou seja, em letras minúsculas, com um *underscore* entre as palávras. Dica: repare que se você não quiser criar um *dataframe* novo, você vai precisar usar a opção ```inplace = True```."
   ]
  },
  {
   "cell_type": "code",
   "execution_count": 7,
   "metadata": {
    "colab": {
     "base_uri": "https://localhost:8080/"
    },
    "id": "IJaVcE2O4PUs",
    "outputId": "9725a35f-8083-4f6b-c2d0-6db129380e2c"
   },
   "outputs": [
    {
     "name": "stdout",
     "output_type": "stream",
     "text": [
      "(27028, 69)\n"
     ]
    },
    {
     "data": {
      "text/plain": [
       "(27028, 69)"
      ]
     },
     "execution_count": 7,
     "metadata": {},
     "output_type": "execute_result"
    }
   ],
   "source": [
    "import pandas as pd\n",
    "import requests\n",
    "\n",
    "# 1) seu código aqui\n",
    "sinasc = pd.read_csv('SINASC_RO_2019.csv')\n",
    "print(sinasc.shape)\n",
    "sinasc.drop_duplicates().shape\n",
    "# Não há duplicados"
   ]
  },
  {
   "cell_type": "code",
   "execution_count": 8,
   "metadata": {
    "colab": {
     "base_uri": "https://localhost:8080/"
    },
    "id": "dNTxcp0R4PUs",
    "outputId": "6d9c5d5b-2f2d-4b91-b142-bd0a001ffeb3",
    "scrolled": true
   },
   "outputs": [
    {
     "data": {
      "text/plain": [
       "{'ORIGEM': 0,\n",
       " 'CODESTAB': 115,\n",
       " 'CODMUNNASC': 0,\n",
       " 'LOCNASC': 0,\n",
       " 'IDADEMAE': 0,\n",
       " 'ESTCIVMAE': 317,\n",
       " 'ESCMAE': 312,\n",
       " 'CODOCUPMAE': 2907,\n",
       " 'QTDFILVIVO': 1573,\n",
       " 'QTDFILMORT': 2098,\n",
       " 'CODMUNRES': 0,\n",
       " 'GESTACAO': 1232,\n",
       " 'GRAVIDEZ': 79,\n",
       " 'PARTO': 49,\n",
       " 'CONSULTAS': 0,\n",
       " 'DTNASC': 0,\n",
       " 'HORANASC': 21,\n",
       " 'SEXO': 4,\n",
       " 'APGAR1': 96,\n",
       " 'APGAR5': 103,\n",
       " 'RACACOR': 647,\n",
       " 'PESO': 0,\n",
       " 'IDANOMAL': 591,\n",
       " 'DTCADASTRO': 0,\n",
       " 'CODANOMAL': 26814,\n",
       " 'NUMEROLOTE': 0,\n",
       " 'VERSAOSIST': 0,\n",
       " 'DTRECEBIM': 0,\n",
       " 'DIFDATA': 0,\n",
       " 'DTRECORIGA': 27028,\n",
       " 'NATURALMAE': 298,\n",
       " 'CODMUNNATU': 298,\n",
       " 'CODUFNATU': 298,\n",
       " 'ESCMAE2010': 249,\n",
       " 'SERIESCMAE': 12710,\n",
       " 'DTNASCMAE': 40,\n",
       " 'RACACORMAE': 661,\n",
       " 'QTDGESTANT': 1212,\n",
       " 'QTDPARTNOR': 1879,\n",
       " 'QTDPARTCES': 1791,\n",
       " 'IDADEPAI': 19421,\n",
       " 'DTULTMENST': 10072,\n",
       " 'SEMAGESTAC': 1238,\n",
       " 'TPMETESTIM': 1238,\n",
       " 'CONSPRENAT': 930,\n",
       " 'MESPRENAT': 2867,\n",
       " 'TPAPRESENT': 265,\n",
       " 'STTRABPART': 947,\n",
       " 'STCESPARTO': 747,\n",
       " 'TPNASCASSI': 61,\n",
       " 'TPFUNCRESP': 67,\n",
       " 'TPDOCRESP': 14,\n",
       " 'DTDECLARAC': 52,\n",
       " 'ESCMAEAGR1': 249,\n",
       " 'STDNEPIDEM': 0,\n",
       " 'STDNNOVA': 0,\n",
       " 'CODPAISRES': 0,\n",
       " 'TPROBSON': 0,\n",
       " 'PARIDADE': 0,\n",
       " 'KOTELCHUCK': 0,\n",
       " 'CONTADOR': 0,\n",
       " 'munResStatus': 0,\n",
       " 'munResTipo': 0,\n",
       " 'munResNome': 0,\n",
       " 'munResUf': 0,\n",
       " 'munResLat': 1,\n",
       " 'munResLon': 1,\n",
       " 'munResAlt': 1,\n",
       " 'munResArea': 1}"
      ]
     },
     "execution_count": 8,
     "metadata": {},
     "output_type": "execute_result"
    }
   ],
   "source": [
    "# 2) seu código aqui\n",
    "clmn = list(sinasc)\n",
    "dados_faltantes = {}\n",
    "for i in clmn:\n",
    "    missing_values = sinasc[i].isna().sum()\n",
    "    dados_faltantes[i] = missing_values\n",
    "dados_faltantes"
   ]
  },
  {
   "cell_type": "code",
   "execution_count": 9,
   "metadata": {
    "colab": {
     "base_uri": "https://localhost:8080/",
     "height": 143
    },
    "id": "Y0b1J0j34PUs",
    "outputId": "41ccd01b-045e-45e3-e2e8-cb25138af479"
   },
   "outputs": [
    {
     "data": {
      "text/html": [
       "<div>\n",
       "<style scoped>\n",
       "    .dataframe tbody tr th:only-of-type {\n",
       "        vertical-align: middle;\n",
       "    }\n",
       "\n",
       "    .dataframe tbody tr th {\n",
       "        vertical-align: top;\n",
       "    }\n",
       "\n",
       "    .dataframe thead th {\n",
       "        text-align: right;\n",
       "    }\n",
       "</style>\n",
       "<table border=\"1\" class=\"dataframe\">\n",
       "  <thead>\n",
       "    <tr style=\"text-align: right;\">\n",
       "      <th></th>\n",
       "      <th>LOCNASC</th>\n",
       "      <th>IDADEMAE</th>\n",
       "      <th>ESTCIVMAE</th>\n",
       "      <th>ESCMAE</th>\n",
       "      <th>QTDFILVIVO</th>\n",
       "      <th>GESTACAO</th>\n",
       "      <th>GRAVIDEZ</th>\n",
       "      <th>CONSULTAS</th>\n",
       "      <th>APGAR5</th>\n",
       "    </tr>\n",
       "  </thead>\n",
       "  <tbody>\n",
       "    <tr>\n",
       "      <th>0</th>\n",
       "      <td>1</td>\n",
       "      <td>19</td>\n",
       "      <td>5.0</td>\n",
       "      <td>8 a 11 anos</td>\n",
       "      <td>0.0</td>\n",
       "      <td>37 a 41 semanas</td>\n",
       "      <td>Única</td>\n",
       "      <td>4</td>\n",
       "      <td>10.0</td>\n",
       "    </tr>\n",
       "    <tr>\n",
       "      <th>1</th>\n",
       "      <td>1</td>\n",
       "      <td>29</td>\n",
       "      <td>2.0</td>\n",
       "      <td>8 a 11 anos</td>\n",
       "      <td>1.0</td>\n",
       "      <td>37 a 41 semanas</td>\n",
       "      <td>Única</td>\n",
       "      <td>4</td>\n",
       "      <td>9.0</td>\n",
       "    </tr>\n",
       "    <tr>\n",
       "      <th>2</th>\n",
       "      <td>1</td>\n",
       "      <td>37</td>\n",
       "      <td>9.0</td>\n",
       "      <td>8 a 11 anos</td>\n",
       "      <td>2.0</td>\n",
       "      <td>37 a 41 semanas</td>\n",
       "      <td>Única</td>\n",
       "      <td>4</td>\n",
       "      <td>10.0</td>\n",
       "    </tr>\n",
       "    <tr>\n",
       "      <th>3</th>\n",
       "      <td>1</td>\n",
       "      <td>30</td>\n",
       "      <td>5.0</td>\n",
       "      <td>12 anos ou mais</td>\n",
       "      <td>0.0</td>\n",
       "      <td>37 a 41 semanas</td>\n",
       "      <td>Única</td>\n",
       "      <td>3</td>\n",
       "      <td>10.0</td>\n",
       "    </tr>\n",
       "    <tr>\n",
       "      <th>4</th>\n",
       "      <td>1</td>\n",
       "      <td>30</td>\n",
       "      <td>2.0</td>\n",
       "      <td>8 a 11 anos</td>\n",
       "      <td>1.0</td>\n",
       "      <td>37 a 41 semanas</td>\n",
       "      <td>Única</td>\n",
       "      <td>4</td>\n",
       "      <td>10.0</td>\n",
       "    </tr>\n",
       "  </tbody>\n",
       "</table>\n",
       "</div>"
      ],
      "text/plain": [
       "   LOCNASC  IDADEMAE  ESTCIVMAE           ESCMAE  QTDFILVIVO         GESTACAO  \\\n",
       "0        1        19        5.0      8 a 11 anos         0.0  37 a 41 semanas   \n",
       "1        1        29        2.0      8 a 11 anos         1.0  37 a 41 semanas   \n",
       "2        1        37        9.0      8 a 11 anos         2.0  37 a 41 semanas   \n",
       "3        1        30        5.0  12 anos ou mais         0.0  37 a 41 semanas   \n",
       "4        1        30        2.0      8 a 11 anos         1.0  37 a 41 semanas   \n",
       "\n",
       "  GRAVIDEZ  CONSULTAS  APGAR5  \n",
       "0    Única          4    10.0  \n",
       "1    Única          4     9.0  \n",
       "2    Única          4    10.0  \n",
       "3    Única          3    10.0  \n",
       "4    Única          4    10.0  "
      ]
     },
     "execution_count": 9,
     "metadata": {},
     "output_type": "execute_result"
    }
   ],
   "source": [
    "# 3) seu código aqui\n",
    "# criando uma variável pra com as colunas selecionadas:\n",
    "sinasc_selecao = ['LOCNASC', 'IDADEMAE', 'ESTCIVMAE', 'ESCMAE', 'QTDFILVIVO', \n",
    "    'GESTACAO', 'GRAVIDEZ', 'CONSULTAS', 'APGAR5']\n",
    "sinasc_b = sinasc[sinasc_selecao] \n",
    "sinasc_b.head(5)"
   ]
  },
  {
   "cell_type": "code",
   "execution_count": 10,
   "metadata": {
    "colab": {
     "base_uri": "https://localhost:8080/"
    },
    "id": "LUZn0lfB406N",
    "outputId": "185c42da-f500-4a68-fc51-d3c297c1e098"
   },
   "outputs": [
    {
     "data": {
      "text/plain": [
       "{'LOCNASC': 0,\n",
       " 'IDADEMAE': 0,\n",
       " 'ESTCIVMAE': 317,\n",
       " 'ESCMAE': 312,\n",
       " 'QTDFILVIVO': 1573,\n",
       " 'GESTACAO': 1232,\n",
       " 'GRAVIDEZ': 79,\n",
       " 'CONSULTAS': 0,\n",
       " 'APGAR5': 103}"
      ]
     },
     "execution_count": 10,
     "metadata": {},
     "output_type": "execute_result"
    }
   ],
   "source": [
    "# e agora apenas repetindo os passos anteriores com as novas variáveis:\n",
    "clmn_selecao = list(sinasc_b)\n",
    "dados_faltantes_selecao = {}\n",
    "for i in clmn_selecao:\n",
    "    dados_faltantes = sinasc_b[i].isna().sum()\n",
    "    dados_faltantes_selecao[i] = dados_faltantes\n",
    "dados_faltantes_selecao"
   ]
  },
  {
   "cell_type": "code",
   "execution_count": 11,
   "metadata": {
    "colab": {
     "base_uri": "https://localhost:8080/"
    },
    "id": "bGe56wAf4PUs",
    "outputId": "657d8aea-bc10-4ac0-b774-d7b9b1e5f4ee"
   },
   "outputs": [
    {
     "name": "stderr",
     "output_type": "stream",
     "text": [
      "C:\\Users\\gabri\\AppData\\Local\\Temp\\ipykernel_12668\\381304566.py:3: SettingWithCopyWarning: \n",
      "A value is trying to be set on a copy of a slice from a DataFrame\n",
      "\n",
      "See the caveats in the documentation: https://pandas.pydata.org/pandas-docs/stable/user_guide/indexing.html#returning-a-view-versus-a-copy\n",
      "  sinasc_b.dropna(axis=0,inplace=True,subset=['APGAR5'])\n"
     ]
    },
    {
     "data": {
      "text/plain": [
       "LOCNASC          0\n",
       "IDADEMAE         0\n",
       "ESTCIVMAE      315\n",
       "ESCMAE         310\n",
       "QTDFILVIVO    1566\n",
       "GESTACAO      1216\n",
       "GRAVIDEZ        76\n",
       "CONSULTAS        0\n",
       "APGAR5           0\n",
       "dtype: int64"
      ]
     },
     "execution_count": 11,
     "metadata": {},
     "output_type": "execute_result"
    }
   ],
   "source": [
    "# 4) seu código aqui\n",
    "# estou fazendo apenas na cópia para preservar o DataSet original\n",
    "sinasc_b.dropna(axis=0,inplace=True,subset=['APGAR5'])\n",
    "sinasc_b.isna().sum()"
   ]
  },
  {
   "cell_type": "code",
   "execution_count": 12,
   "metadata": {
    "colab": {
     "base_uri": "https://localhost:8080/"
    },
    "id": "m2aBokIj8xT_",
    "outputId": "4a1c463b-aad4-447c-f5ba-92204dfb5036"
   },
   "outputs": [
    {
     "data": {
      "text/plain": [
       "(26925, 9)"
      ]
     },
     "execution_count": 12,
     "metadata": {},
     "output_type": "execute_result"
    }
   ],
   "source": [
    "# verificando o tamanho do dataset:\n",
    "sinasc_b.shape"
   ]
  },
  {
   "cell_type": "code",
   "execution_count": 13,
   "metadata": {
    "colab": {
     "base_uri": "https://localhost:8080/",
     "height": 424
    },
    "id": "U8BmkFOE4PUs",
    "outputId": "f85eb1c1-9908-4017-d873-b808e1a006f4"
   },
   "outputs": [
    {
     "data": {
      "text/plain": [
       "False    26925\n",
       "Name: CONSULTAS, dtype: int64"
      ]
     },
     "execution_count": 13,
     "metadata": {},
     "output_type": "execute_result"
    }
   ],
   "source": [
    "# 5) seu código aqui\n",
    "# como não temos valores NaN na coluna CONSULTAS, podemos tratar apenas na coluna de ESTCIVMAE\n",
    "sinasc_b['CONSULTAS'].isna().value_counts()"
   ]
  },
  {
   "cell_type": "code",
   "execution_count": 14,
   "metadata": {},
   "outputs": [
    {
     "name": "stdout",
     "output_type": "stream",
     "text": [
      "False    26610\n",
      "True       315\n",
      "Name: ESTCIVMAE, dtype: int64\n",
      "Abaixo o total de valores iguais à 9.\n",
      "144\n"
     ]
    }
   ],
   "source": [
    "# a coluna possuí 315 valores NaN das quais transformares em 9\n",
    "print(sinasc_b['ESTCIVMAE'].isna().value_counts())\n",
    "x = sinasc_b.loc[:,'ESTCIVMAE'] == 9\n",
    "print('Abaixo o total de valores iguais à 9.')\n",
    "print(sinasc_b[x].shape[0])"
   ]
  },
  {
   "cell_type": "code",
   "execution_count": 15,
   "metadata": {},
   "outputs": [
    {
     "name": "stdout",
     "output_type": "stream",
     "text": [
      "False    26925\n",
      "Name: ESTCIVMAE, dtype: int64\n",
      "Abaixo novo total de valores iguais à 9.\n",
      "459\n"
     ]
    },
    {
     "name": "stderr",
     "output_type": "stream",
     "text": [
      "C:\\Users\\gabri\\AppData\\Local\\Temp\\ipykernel_12668\\1652157485.py:1: SettingWithCopyWarning: \n",
      "A value is trying to be set on a copy of a slice from a DataFrame\n",
      "\n",
      "See the caveats in the documentation: https://pandas.pydata.org/pandas-docs/stable/user_guide/indexing.html#returning-a-view-versus-a-copy\n",
      "  sinasc_b['ESTCIVMAE'].fillna(9, inplace=True)\n"
     ]
    }
   ],
   "source": [
    "sinasc_b['ESTCIVMAE'].fillna(9, inplace=True)\n",
    "\n",
    "print(sinasc_b['ESTCIVMAE'].isna().value_counts())\n",
    "x = sinasc_b.loc[:,'ESTCIVMAE'] == 9\n",
    "print('Abaixo novo total de valores iguais à 9.')\n",
    "print(sinasc_b[x].shape[0])"
   ]
  },
  {
   "cell_type": "code",
   "execution_count": 16,
   "metadata": {},
   "outputs": [
    {
     "data": {
      "text/plain": [
       "False    25359\n",
       "True      1566\n",
       "Name: QTDFILVIVO, dtype: int64"
      ]
     },
     "execution_count": 16,
     "metadata": {},
     "output_type": "execute_result"
    }
   ],
   "source": [
    "# 6) Seu código aqui\n",
    "# antes de substituirmos os valores, vamos ter uma noção de quanto estaremos substituindo:\n",
    "sinasc_b['QTDFILVIVO'].isna().value_counts()"
   ]
  },
  {
   "cell_type": "code",
   "execution_count": 17,
   "metadata": {
    "id": "f4nbzpJ34PUs"
   },
   "outputs": [
    {
     "name": "stderr",
     "output_type": "stream",
     "text": [
      "C:\\Users\\gabri\\AppData\\Local\\Temp\\ipykernel_12668\\120345049.py:2: SettingWithCopyWarning: \n",
      "A value is trying to be set on a copy of a slice from a DataFrame\n",
      "\n",
      "See the caveats in the documentation: https://pandas.pydata.org/pandas-docs/stable/user_guide/indexing.html#returning-a-view-versus-a-copy\n",
      "  sinasc_b['QTDFILVIVO'].fillna(0, inplace=True)\n"
     ]
    },
    {
     "data": {
      "text/plain": [
       "False    26925\n",
       "Name: QTDFILVIVO, dtype: int64"
      ]
     },
     "execution_count": 17,
     "metadata": {},
     "output_type": "execute_result"
    }
   ],
   "source": [
    "# e agora de fato substiuindo os valores NaN por 0:\n",
    "sinasc_b['QTDFILVIVO'].fillna(0, inplace=True)\n",
    "sinasc_b['QTDFILVIVO'].isna().value_counts()"
   ]
  },
  {
   "cell_type": "code",
   "execution_count": 18,
   "metadata": {
    "id": "dw5chCox4PUs"
   },
   "outputs": [
    {
     "data": {
      "text/plain": [
       "1216"
      ]
     },
     "execution_count": 18,
     "metadata": {},
     "output_type": "execute_result"
    }
   ],
   "source": [
    "# 7) seu código aqui\n",
    "# acredito que os valores da coluna GESTACAO, que indicam tempo de gestação, são bem importantes\n",
    "# para apenas preenchermos como ignorado ou tentarmos colocar um resultado mais provável. Dito isso,\n",
    "# optei por remover as linhas onde temos dados NaN nessa coluna pois poderiam comprometer as analíses\n",
    "sinasc_b['GESTACAO'].isna().sum()"
   ]
  },
  {
   "cell_type": "code",
   "execution_count": 19,
   "metadata": {},
   "outputs": [
    {
     "name": "stderr",
     "output_type": "stream",
     "text": [
      "C:\\Users\\gabri\\AppData\\Local\\Temp\\ipykernel_12668\\3776357476.py:1: SettingWithCopyWarning: \n",
      "A value is trying to be set on a copy of a slice from a DataFrame\n",
      "\n",
      "See the caveats in the documentation: https://pandas.pydata.org/pandas-docs/stable/user_guide/indexing.html#returning-a-view-versus-a-copy\n",
      "  sinasc_b.dropna(axis=0,inplace=True,subset=['GESTACAO'])\n"
     ]
    },
    {
     "data": {
      "text/plain": [
       "0"
      ]
     },
     "execution_count": 19,
     "metadata": {},
     "output_type": "execute_result"
    }
   ],
   "source": [
    "sinasc_b.dropna(axis=0,inplace=True,subset=['GESTACAO'])\n",
    "sinasc_b['GESTACAO'].isna().sum()"
   ]
  },
  {
   "cell_type": "code",
   "execution_count": 20,
   "metadata": {
    "id": "4dw_JKAK4PU8"
   },
   "outputs": [
    {
     "data": {
      "text/plain": [
       "9.0     15372\n",
       "10.0     7994\n",
       "8.0      1908\n",
       "7.0       234\n",
       "6.0        72\n",
       "5.0        40\n",
       "1.0        22\n",
       "4.0        21\n",
       "0.0        16\n",
       "2.0        16\n",
       "3.0        14\n",
       "Name: APGAR5, dtype: int64"
      ]
     },
     "execution_count": 20,
     "metadata": {},
     "output_type": "execute_result"
    }
   ],
   "source": [
    "# 8) seu código aqui\n",
    "sinasc_b['APGAR5'].value_counts()"
   ]
  },
  {
   "cell_type": "code",
   "execution_count": 34,
   "metadata": {},
   "outputs": [],
   "source": [
    "sinasc_b.loc[sinasc_b['APGAR5'] >= 8, 'cat_apgar5'] = 'normal'\n",
    "sinasc_b.loc[(sinasc_b['APGAR5'] >= 6) & (sinasc_b['APGAR5'] <= 7), 'cat_apgar5'] = 'asfixia_leve'\n",
    "sinasc_b.loc[(sinasc_b['APGAR5'] >= 4) & (sinasc_b['APGAR5'] <= 5), 'cat_apgar5'] = 'asfixia_moderada'\n",
    "sinasc_b.loc[sinasc_b['APGAR5'] <= 3, 'cat_apgar5'] = 'asfixia_severa'"
   ]
  },
  {
   "cell_type": "code",
   "execution_count": 35,
   "metadata": {},
   "outputs": [],
   "source": [
    "def freq_apgar5_cat(categoria: str) -> str:\n",
    "    frequencia = ((sinasc_b['cat_apgar5'] == categoria).sum()) / sinasc_b['cat_apgar5'].shape[0]\n",
    "    return print('A frequência da categoria', categoria, 'é de', round(frequencia,2), '%')"
   ]
  },
  {
   "cell_type": "code",
   "execution_count": 36,
   "metadata": {},
   "outputs": [],
   "source": [
    "def freq(categoria: str):\n",
    "    total_cat = (sinasc_b['cat_apgar5'] == categoria).sum()\n",
    "    total_cat_apgar5 = sinasc_b['cat_apgar5'].shape[0]\n",
    "    frequencia = total_cat / total_cat_apgar5\n",
    "    msg = print(\"A frequência da categoria\", categoria, \"é de\", round(frequencia,3), \"%\")\n",
    "    return msg"
   ]
  },
  {
   "cell_type": "code",
   "execution_count": 38,
   "metadata": {},
   "outputs": [
    {
     "name": "stdout",
     "output_type": "stream",
     "text": [
      "A frequência da categoria normal é de 0.983 %\n",
      "A frequência da categoria asfixia_leve é de 0.012 %\n",
      "A frequência da categoria asfixia_moderada é de 0.002 %\n",
      "A frequência da categoria asfixia_severa é de 0.003 %\n"
     ]
    }
   ],
   "source": [
    "freq(categoria='normal')\n",
    "freq(categoria='asfixia_leve')\n",
    "freq(categoria='asfixia_moderada')\n",
    "freq(categoria='asfixia_severa')"
   ]
  },
  {
   "cell_type": "code",
   "execution_count": 76,
   "metadata": {
    "id": "EHDnrDeg4PU8"
   },
   "outputs": [],
   "source": [
    "# 9) seu código aqui\n",
    "# vou usar o applymap duas vezes:\n",
    "sinasc_b = sinasc_b.applymap(lambda s: s.lower() if type(s) == str else s)\n",
    "sinasc_b = sinasc_b.applymap(lambda s: s.replace(' ','_') if type(s) == str else s)"
   ]
  },
  {
   "cell_type": "code",
   "execution_count": 78,
   "metadata": {},
   "outputs": [
    {
     "data": {
      "text/html": [
       "<div>\n",
       "<style scoped>\n",
       "    .dataframe tbody tr th:only-of-type {\n",
       "        vertical-align: middle;\n",
       "    }\n",
       "\n",
       "    .dataframe tbody tr th {\n",
       "        vertical-align: top;\n",
       "    }\n",
       "\n",
       "    .dataframe thead th {\n",
       "        text-align: right;\n",
       "    }\n",
       "</style>\n",
       "<table border=\"1\" class=\"dataframe\">\n",
       "  <thead>\n",
       "    <tr style=\"text-align: right;\">\n",
       "      <th></th>\n",
       "      <th>LOCNASC</th>\n",
       "      <th>IDADEMAE</th>\n",
       "      <th>ESTCIVMAE</th>\n",
       "      <th>ESCMAE</th>\n",
       "      <th>QTDFILVIVO</th>\n",
       "      <th>GESTACAO</th>\n",
       "      <th>GRAVIDEZ</th>\n",
       "      <th>CONSULTAS</th>\n",
       "      <th>APGAR5</th>\n",
       "      <th>cat_apgar5</th>\n",
       "    </tr>\n",
       "  </thead>\n",
       "  <tbody>\n",
       "    <tr>\n",
       "      <th>0</th>\n",
       "      <td>1</td>\n",
       "      <td>19</td>\n",
       "      <td>5.0</td>\n",
       "      <td>8_a_11_anos</td>\n",
       "      <td>0.0</td>\n",
       "      <td>37_a_41_semanas</td>\n",
       "      <td>única</td>\n",
       "      <td>4</td>\n",
       "      <td>10.0</td>\n",
       "      <td>normal</td>\n",
       "    </tr>\n",
       "    <tr>\n",
       "      <th>1</th>\n",
       "      <td>1</td>\n",
       "      <td>29</td>\n",
       "      <td>2.0</td>\n",
       "      <td>8_a_11_anos</td>\n",
       "      <td>1.0</td>\n",
       "      <td>37_a_41_semanas</td>\n",
       "      <td>única</td>\n",
       "      <td>4</td>\n",
       "      <td>9.0</td>\n",
       "      <td>normal</td>\n",
       "    </tr>\n",
       "    <tr>\n",
       "      <th>2</th>\n",
       "      <td>1</td>\n",
       "      <td>37</td>\n",
       "      <td>9.0</td>\n",
       "      <td>8_a_11_anos</td>\n",
       "      <td>2.0</td>\n",
       "      <td>37_a_41_semanas</td>\n",
       "      <td>única</td>\n",
       "      <td>4</td>\n",
       "      <td>10.0</td>\n",
       "      <td>normal</td>\n",
       "    </tr>\n",
       "    <tr>\n",
       "      <th>3</th>\n",
       "      <td>1</td>\n",
       "      <td>30</td>\n",
       "      <td>5.0</td>\n",
       "      <td>12_anos_ou_mais</td>\n",
       "      <td>0.0</td>\n",
       "      <td>37_a_41_semanas</td>\n",
       "      <td>única</td>\n",
       "      <td>3</td>\n",
       "      <td>10.0</td>\n",
       "      <td>normal</td>\n",
       "    </tr>\n",
       "    <tr>\n",
       "      <th>4</th>\n",
       "      <td>1</td>\n",
       "      <td>30</td>\n",
       "      <td>2.0</td>\n",
       "      <td>8_a_11_anos</td>\n",
       "      <td>1.0</td>\n",
       "      <td>37_a_41_semanas</td>\n",
       "      <td>única</td>\n",
       "      <td>4</td>\n",
       "      <td>10.0</td>\n",
       "      <td>normal</td>\n",
       "    </tr>\n",
       "  </tbody>\n",
       "</table>\n",
       "</div>"
      ],
      "text/plain": [
       "   LOCNASC  IDADEMAE  ESTCIVMAE           ESCMAE  QTDFILVIVO         GESTACAO  \\\n",
       "0        1        19        5.0      8_a_11_anos         0.0  37_a_41_semanas   \n",
       "1        1        29        2.0      8_a_11_anos         1.0  37_a_41_semanas   \n",
       "2        1        37        9.0      8_a_11_anos         2.0  37_a_41_semanas   \n",
       "3        1        30        5.0  12_anos_ou_mais         0.0  37_a_41_semanas   \n",
       "4        1        30        2.0      8_a_11_anos         1.0  37_a_41_semanas   \n",
       "\n",
       "  GRAVIDEZ  CONSULTAS  APGAR5 cat_apgar5  \n",
       "0    única          4    10.0     normal  \n",
       "1    única          4     9.0     normal  \n",
       "2    única          4    10.0     normal  \n",
       "3    única          3    10.0     normal  \n",
       "4    única          4    10.0     normal  "
      ]
     },
     "execution_count": 78,
     "metadata": {},
     "output_type": "execute_result"
    }
   ],
   "source": [
    "sinasc_b.head(5)"
   ]
  }
 ],
 "metadata": {
  "colab": {
   "collapsed_sections": [],
   "provenance": []
  },
  "kernelspec": {
   "display_name": "Python 3 (ipykernel)",
   "language": "python",
   "name": "python3"
  },
  "language_info": {
   "codemirror_mode": {
    "name": "ipython",
    "version": 3
   },
   "file_extension": ".py",
   "mimetype": "text/x-python",
   "name": "python",
   "nbconvert_exporter": "python",
   "pygments_lexer": "ipython3",
   "version": "3.9.12"
  }
 },
 "nbformat": 4,
 "nbformat_minor": 1
}
