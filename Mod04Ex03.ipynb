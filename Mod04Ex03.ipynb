{
 "cells": [
  {
   "cell_type": "markdown",
   "metadata": {},
   "source": [
    "# Tarefa 03\n",
    "\n",
    "- Leia os enunciados com atenção\n",
    "- Saiba que pode haver mais de uma resposta correta\n",
    "- Insira novas células de código sempre que achar necessário\n",
    "- Em caso de dúvidas, procure os Tutores\n",
    "- Divirta-se :)"
   ]
  },
  {
   "cell_type": "code",
   "execution_count": 2,
   "metadata": {},
   "outputs": [],
   "source": [
    "import pandas as pd\n",
    "import requests\n",
    "import numpy as np"
   ]
  },
  {
   "cell_type": "markdown",
   "metadata": {},
   "source": [
    "####  1) Lendo de APIs\n",
    "Vimos em aula como carregar dados públicos do governo através de um API (*Application Programming Interface*). No exemplo de aula, baixamos os dados de pedidos de verificação de limites (PVL) realizados por estados, e selecionamos apenas aqueles referentes ao estado de São Paulo.\n",
    "\n",
    "1. Repita os mesmos passos feitos em aula, mas selecione os PVLs realizados por municípios no estado do Rio de Janeiro.\n",
    "2. Quais são os três *status* das solicitações mais frequentes na base? Quais são suas frequências?\n",
    "3. Construa uma nova variável que contenha o ano do **status**. Observe que ```data_status``` vem como tipo *object* no **DataFrame**. Dica: você pode usar o método ```.str``` para transformar o tipo da variável em string, em seguida um método como [**slice()**](https://pandas.pydata.org/docs/reference/api/pandas.Series.str.slice.html) ou [**split()**](https://pandas.pydata.org/pandas-docs/stable/reference/api/pandas.Series.str.split.html).\n",
    "4. Indique a frequência de cada ano do campo construído no item (3)."
   ]
  },
  {
   "cell_type": "code",
   "execution_count": 3,
   "metadata": {},
   "outputs": [
    {
     "data": {
      "text/plain": [
       "(52, 18)"
      ]
     },
     "execution_count": 3,
     "metadata": {},
     "output_type": "execute_result"
    }
   ],
   "source": [
    "# 1) Seu código aqui\n",
    "url = 'https://apidatalake.tesouro.gov.br/ords/sadipem/tt/pvl?uf=RJ&tipo_interessado=Estado'\n",
    "r = requests.get(url)\n",
    "data_json = r.json()\n",
    "# acima foram os passos para conseguir a API\n",
    "# abaixo estão as linhas de código para utilizar um DataFrame\n",
    "df = pd.DataFrame(data_json['items'])\n",
    "df.shape # para sabermos o tamanho do nosso DataFrame"
   ]
  },
  {
   "cell_type": "code",
   "execution_count": 44,
   "metadata": {},
   "outputs": [
    {
     "data": {
      "text/plain": [
       "Encaminhado à PGFN com manifestação técnica favorável    34\n",
       "Deferido                                                 14\n",
       "Arquivado a pedido                                        3\n",
       "Arquivado por decurso de prazo                            1\n",
       "Name: status, dtype: int64"
      ]
     },
     "execution_count": 44,
     "metadata": {},
     "output_type": "execute_result"
    }
   ],
   "source": [
    "# 2) Seu código aqui\n",
    "df['status'].value_counts()"
   ]
  },
  {
   "cell_type": "markdown",
   "metadata": {},
   "source": [
    "Abaixo as operações para os três *status* mais frequentes."
   ]
  },
  {
   "cell_type": "code",
   "execution_count": 226,
   "metadata": {},
   "outputs": [
    {
     "name": "stdout",
     "output_type": "stream",
     "text": [
      "A frequência do status 'Encaminhado à PGFN com manifestação técnica favorável' é de 65.38 %.\n",
      "A frequência do status 'Deferido' é de 26.92 %.\n",
      "A frequência do status 'Arquivado a pedido' é de 5.77 %.\n"
     ]
    }
   ],
   "source": [
    "print(\"A frequência do status 'Encaminhado à PGFN com manifestação técnica favorável' é de\", round(34/52*100,2), \"%.\")\n",
    "print(\"A frequência do status 'Deferido' é de\", round(14/52*100,2), \"%.\")\n",
    "print(\"A frequência do status 'Arquivado a pedido' é de\", round(3/52*100,2), \"%.\")"
   ]
  },
  {
   "cell_type": "code",
   "execution_count": 205,
   "metadata": {},
   "outputs": [
    {
     "data": {
      "text/html": [
       "<div>\n",
       "<style scoped>\n",
       "    .dataframe tbody tr th:only-of-type {\n",
       "        vertical-align: middle;\n",
       "    }\n",
       "\n",
       "    .dataframe tbody tr th {\n",
       "        vertical-align: top;\n",
       "    }\n",
       "\n",
       "    .dataframe thead th {\n",
       "        text-align: right;\n",
       "    }\n",
       "</style>\n",
       "<table border=\"1\" class=\"dataframe\">\n",
       "  <thead>\n",
       "    <tr style=\"text-align: right;\">\n",
       "      <th></th>\n",
       "      <th>id_pleito</th>\n",
       "      <th>tipo_interessado</th>\n",
       "      <th>interessado</th>\n",
       "      <th>cod_ibge</th>\n",
       "      <th>uf</th>\n",
       "      <th>num_pvl</th>\n",
       "      <th>status</th>\n",
       "      <th>num_processo</th>\n",
       "      <th>data_protocolo</th>\n",
       "      <th>tipo_operacao</th>\n",
       "      <th>finalidade</th>\n",
       "      <th>tipo_credor</th>\n",
       "      <th>credor</th>\n",
       "      <th>moeda</th>\n",
       "      <th>valor</th>\n",
       "      <th>pvl_assoc_divida</th>\n",
       "      <th>pvl_contradado_credor</th>\n",
       "      <th>data_status</th>\n",
       "      <th>ano_status</th>\n",
       "    </tr>\n",
       "  </thead>\n",
       "  <tbody>\n",
       "    <tr>\n",
       "      <th>0</th>\n",
       "      <td>5645</td>\n",
       "      <td>Estado</td>\n",
       "      <td>Rio de Janeiro</td>\n",
       "      <td>33</td>\n",
       "      <td>RJ</td>\n",
       "      <td>None</td>\n",
       "      <td>Encaminhado à PGFN com manifestação técnica fa...</td>\n",
       "      <td>17944.000161/2013-79</td>\n",
       "      <td>2013-04-08T03:00:00Z</td>\n",
       "      <td>Operação contratual interna (com garantia da U...</td>\n",
       "      <td>Infraestrutura</td>\n",
       "      <td>Instituição Financeira Nacional</td>\n",
       "      <td>Banco Nacional de Desenvolvimento Econômico e ...</td>\n",
       "      <td>Real</td>\n",
       "      <td>3.031405e+09</td>\n",
       "      <td>1</td>\n",
       "      <td>0</td>\n",
       "      <td>06/05/2013</td>\n",
       "      <td>2013</td>\n",
       "    </tr>\n",
       "    <tr>\n",
       "      <th>1</th>\n",
       "      <td>13560</td>\n",
       "      <td>Estado</td>\n",
       "      <td>Rio de Janeiro</td>\n",
       "      <td>33</td>\n",
       "      <td>RJ</td>\n",
       "      <td>None</td>\n",
       "      <td>Deferido</td>\n",
       "      <td>19405.000026/2002-01</td>\n",
       "      <td>2002-06-25T03:00:00Z</td>\n",
       "      <td>Operação contratual interna</td>\n",
       "      <td>Infraestrutura</td>\n",
       "      <td>Instituição Financeira Nacional</td>\n",
       "      <td>Banco Nacional de Desenvolvimento Econômico e ...</td>\n",
       "      <td>Real</td>\n",
       "      <td>4.994200e+04</td>\n",
       "      <td>1</td>\n",
       "      <td>0</td>\n",
       "      <td>27/06/2002</td>\n",
       "      <td>2002</td>\n",
       "    </tr>\n",
       "    <tr>\n",
       "      <th>2</th>\n",
       "      <td>5630</td>\n",
       "      <td>Estado</td>\n",
       "      <td>Rio de Janeiro</td>\n",
       "      <td>33</td>\n",
       "      <td>RJ</td>\n",
       "      <td>None</td>\n",
       "      <td>Encaminhado à PGFN com manifestação técnica fa...</td>\n",
       "      <td>17944.000158/2013-55</td>\n",
       "      <td>2013-10-22T02:00:00Z</td>\n",
       "      <td>Operação contratual externa (com garantia da U...</td>\n",
       "      <td>Fortalecimento Institucional</td>\n",
       "      <td>Instituição Financeira Internacional</td>\n",
       "      <td>Banco Internacional para Reconstrução e Desenv...</td>\n",
       "      <td>Dólar dos EUA</td>\n",
       "      <td>4.800000e+07</td>\n",
       "      <td>1</td>\n",
       "      <td>0</td>\n",
       "      <td>21/11/2013</td>\n",
       "      <td>2013</td>\n",
       "    </tr>\n",
       "  </tbody>\n",
       "</table>\n",
       "</div>"
      ],
      "text/plain": [
       "   id_pleito tipo_interessado     interessado  cod_ibge  uf num_pvl  \\\n",
       "0       5645           Estado  Rio de Janeiro        33  RJ    None   \n",
       "1      13560           Estado  Rio de Janeiro        33  RJ    None   \n",
       "2       5630           Estado  Rio de Janeiro        33  RJ    None   \n",
       "\n",
       "                                              status          num_processo  \\\n",
       "0  Encaminhado à PGFN com manifestação técnica fa...  17944.000161/2013-79   \n",
       "1                                           Deferido  19405.000026/2002-01   \n",
       "2  Encaminhado à PGFN com manifestação técnica fa...  17944.000158/2013-55   \n",
       "\n",
       "         data_protocolo                                      tipo_operacao  \\\n",
       "0  2013-04-08T03:00:00Z  Operação contratual interna (com garantia da U...   \n",
       "1  2002-06-25T03:00:00Z                        Operação contratual interna   \n",
       "2  2013-10-22T02:00:00Z  Operação contratual externa (com garantia da U...   \n",
       "\n",
       "                     finalidade                           tipo_credor  \\\n",
       "0                Infraestrutura       Instituição Financeira Nacional   \n",
       "1                Infraestrutura       Instituição Financeira Nacional   \n",
       "2  Fortalecimento Institucional  Instituição Financeira Internacional   \n",
       "\n",
       "                                              credor          moeda  \\\n",
       "0  Banco Nacional de Desenvolvimento Econômico e ...           Real   \n",
       "1  Banco Nacional de Desenvolvimento Econômico e ...           Real   \n",
       "2  Banco Internacional para Reconstrução e Desenv...  Dólar dos EUA   \n",
       "\n",
       "          valor  pvl_assoc_divida  pvl_contradado_credor data_status  \\\n",
       "0  3.031405e+09                 1                      0  06/05/2013   \n",
       "1  4.994200e+04                 1                      0  27/06/2002   \n",
       "2  4.800000e+07                 1                      0  21/11/2013   \n",
       "\n",
       "  ano_status  \n",
       "0       2013  \n",
       "1       2002  \n",
       "2       2013  "
      ]
     },
     "execution_count": 205,
     "metadata": {},
     "output_type": "execute_result"
    }
   ],
   "source": [
    "# 3) Seu código aqui\n",
    "# primeiro defino uma variável que irá dividir a coluna data_status em três colunas\n",
    "data_status_split = df['data_status'].str.split('/', expand = True)\n",
    "# abaixo adicionamos a variável ano_status ao DataFrame e chamamos um df.head()\n",
    "df['ano_status'] = data_status_split[2]\n",
    "df.head(3)"
   ]
  },
  {
   "cell_type": "code",
   "execution_count": 260,
   "metadata": {},
   "outputs": [
    {
     "name": "stdout",
     "output_type": "stream",
     "text": [
      "Abaixo uma lista com os anos únicos do DataFrame:\n",
      "['2013' '2002' '2009' '2011' '2008' '2016' '2006' '2012' '2010' '2014']\n",
      "\n",
      "E aqui temos os anos e a contagem de aparições no DataFrame:\n",
      "2012    11\n",
      "2009     9\n",
      "2013     7\n",
      "2011     6\n",
      "2002     4\n",
      "2016     4\n",
      "2014     4\n",
      "2010     3\n",
      "2008     2\n",
      "2006     2\n",
      "Name: ano_status, dtype: int64\n"
     ]
    }
   ],
   "source": [
    "# 4) Seu código aqui\n",
    "ano_unique = df['ano_status'].unique()\n",
    "print(\"Abaixo uma lista com os anos únicos do DataFrame:\")\n",
    "print(ano_unique)\n",
    "ano_count = df['ano_status'].value_counts()\n",
    "print()\n",
    "print(\"E aqui temos os anos e a contagem de aparições no DataFrame:\")\n",
    "print(ano_count)"
   ]
  },
  {
   "cell_type": "code",
   "execution_count": 276,
   "metadata": {},
   "outputs": [],
   "source": [
    "# vou definir uma função para fazer as operações pois não consegui fazer de outro jeito para facilitar a iteração:\n",
    "def freq_ano_stat(ano: str, total_aparicoes: int):\n",
    "    frequencia = str(round(total_aparicoes/52*100,2))\n",
    "    mensagem = \"A frequência do \" + ano + \" é de \" + frequencia + \"%.\"\n",
    "    return mensagem"
   ]
  },
  {
   "cell_type": "code",
   "execution_count": 280,
   "metadata": {},
   "outputs": [
    {
     "name": "stdout",
     "output_type": "stream",
     "text": [
      "A frequência do 2012 é de 21.15%.\n",
      "A frequência do 2009 é de 17.31%.\n",
      "A frequência do 2013 é de 13.46%.\n",
      "A frequência do 2011 é de 11.54%.\n",
      "A frequência do 2002 é de 7.69%.\n",
      "A frequência do 2016 é de 7.69%.\n",
      "A frequência do 2014 é de 7.69%.\n",
      "A frequência do 2010 é de 5.77%.\n",
      "A frequência do 2008 é de 3.85%.\n",
      "A frequência do 2006 é de 3.85%.\n"
     ]
    }
   ],
   "source": [
    "print(freq_ano_stat('2012', 11))\n",
    "print(freq_ano_stat('2009', 9))\n",
    "print(freq_ano_stat('2013', 7))\n",
    "print(freq_ano_stat('2011', 6))\n",
    "print(freq_ano_stat('2002', 4))\n",
    "print(freq_ano_stat('2016', 4))\n",
    "print(freq_ano_stat('2014', 4))\n",
    "print(freq_ano_stat('2010', 3))\n",
    "print(freq_ano_stat('2008', 2))\n",
    "print(freq_ano_stat('2006', 2))"
   ]
  },
  {
   "cell_type": "markdown",
   "metadata": {},
   "source": [
    "####  2) Melhorando a interação com o API\n",
    "Observe dois URLs de consultas diferentes, por exemplo o URL utilizado em aula, e o URL feito no exercício anterior. Compare-os e observe as diferenças.\n",
    "\n",
    "1. Faça uma função em Python que recebe como argumento o UF da consulta e o tipo de interessado (```'Estado'```ou ```Município```), e que devolve os dados da consulta no formato *DataFrame*.\n",
    "2. Quantas solicitações para o Estado podem ser consultadas para Minas Gerais com *status* em 'Arquivado por decurso de prazo' estão registradas?\n",
    "3. Qual é o município da Bahia com mais solicitações deferidas?\n",
    "4. Salve um arquivo .csv com os dados de solicitações da Bahia, com interessado = 'Estado'"
   ]
  },
  {
   "cell_type": "code",
   "execution_count": 21,
   "metadata": {},
   "outputs": [],
   "source": [
    "# 1) Seu código aqui\n",
    "def get_api(uf: str, interesse: str):\n",
    "    url = 'https://apidatalake.tesouro.gov.br/ords/sadipem/tt/pvl?uf='+ uf + '&tipo_interessado=' + interesse\n",
    "    r = requests.get(url)\n",
    "    data_json = r.json()\n",
    "    data = pd.DataFrame(data_json['items'])\n",
    "    return data"
   ]
  },
  {
   "cell_type": "code",
   "execution_count": 22,
   "metadata": {},
   "outputs": [
    {
     "data": {
      "text/html": [
       "<div>\n",
       "<style scoped>\n",
       "    .dataframe tbody tr th:only-of-type {\n",
       "        vertical-align: middle;\n",
       "    }\n",
       "\n",
       "    .dataframe tbody tr th {\n",
       "        vertical-align: top;\n",
       "    }\n",
       "\n",
       "    .dataframe thead th {\n",
       "        text-align: right;\n",
       "    }\n",
       "</style>\n",
       "<table border=\"1\" class=\"dataframe\">\n",
       "  <thead>\n",
       "    <tr style=\"text-align: right;\">\n",
       "      <th></th>\n",
       "      <th>id_pleito</th>\n",
       "      <th>tipo_interessado</th>\n",
       "      <th>interessado</th>\n",
       "      <th>cod_ibge</th>\n",
       "      <th>uf</th>\n",
       "      <th>num_pvl</th>\n",
       "      <th>status</th>\n",
       "      <th>num_processo</th>\n",
       "      <th>data_protocolo</th>\n",
       "      <th>tipo_operacao</th>\n",
       "      <th>finalidade</th>\n",
       "      <th>tipo_credor</th>\n",
       "      <th>credor</th>\n",
       "      <th>moeda</th>\n",
       "      <th>valor</th>\n",
       "      <th>pvl_assoc_divida</th>\n",
       "      <th>pvl_contradado_credor</th>\n",
       "      <th>data_status</th>\n",
       "    </tr>\n",
       "  </thead>\n",
       "  <tbody>\n",
       "    <tr>\n",
       "      <th>0</th>\n",
       "      <td>10155</td>\n",
       "      <td>Estado</td>\n",
       "      <td>Santa Catarina</td>\n",
       "      <td>42</td>\n",
       "      <td>SC</td>\n",
       "      <td>None</td>\n",
       "      <td>Encaminhado à PGFN com manifestação técnica fa...</td>\n",
       "      <td>17944.001132/2012-43</td>\n",
       "      <td>2012-10-30T02:00:00Z</td>\n",
       "      <td>Operação contratual interna (com garantia da U...</td>\n",
       "      <td>Proinveste</td>\n",
       "      <td>Instituição Financeira Nacional</td>\n",
       "      <td>Banco Nacional de Desenvolvimento Econômico e ...</td>\n",
       "      <td>Real</td>\n",
       "      <td>6.110000e+08</td>\n",
       "      <td>1</td>\n",
       "      <td>0</td>\n",
       "      <td>28/11/2012</td>\n",
       "    </tr>\n",
       "    <tr>\n",
       "      <th>1</th>\n",
       "      <td>12257</td>\n",
       "      <td>Estado</td>\n",
       "      <td>Santa Catarina</td>\n",
       "      <td>42</td>\n",
       "      <td>SC</td>\n",
       "      <td>None</td>\n",
       "      <td>Encaminhado à PGFN com manifestação técnica fa...</td>\n",
       "      <td>17944.001640/2013-11</td>\n",
       "      <td>2014-02-20T03:00:00Z</td>\n",
       "      <td>Operação contratual interna (com garantia da U...</td>\n",
       "      <td>Infraestrutura</td>\n",
       "      <td>Instituição Financeira Nacional</td>\n",
       "      <td>Banco do Brasil S/A</td>\n",
       "      <td>Real</td>\n",
       "      <td>2.000000e+09</td>\n",
       "      <td>1</td>\n",
       "      <td>0</td>\n",
       "      <td>10/03/2014</td>\n",
       "    </tr>\n",
       "  </tbody>\n",
       "</table>\n",
       "</div>"
      ],
      "text/plain": [
       "   id_pleito tipo_interessado     interessado  cod_ibge  uf num_pvl  \\\n",
       "0      10155           Estado  Santa Catarina        42  SC    None   \n",
       "1      12257           Estado  Santa Catarina        42  SC    None   \n",
       "\n",
       "                                              status          num_processo  \\\n",
       "0  Encaminhado à PGFN com manifestação técnica fa...  17944.001132/2012-43   \n",
       "1  Encaminhado à PGFN com manifestação técnica fa...  17944.001640/2013-11   \n",
       "\n",
       "         data_protocolo                                      tipo_operacao  \\\n",
       "0  2012-10-30T02:00:00Z  Operação contratual interna (com garantia da U...   \n",
       "1  2014-02-20T03:00:00Z  Operação contratual interna (com garantia da U...   \n",
       "\n",
       "       finalidade                      tipo_credor  \\\n",
       "0      Proinveste  Instituição Financeira Nacional   \n",
       "1  Infraestrutura  Instituição Financeira Nacional   \n",
       "\n",
       "                                              credor moeda         valor  \\\n",
       "0  Banco Nacional de Desenvolvimento Econômico e ...  Real  6.110000e+08   \n",
       "1                                Banco do Brasil S/A  Real  2.000000e+09   \n",
       "\n",
       "   pvl_assoc_divida  pvl_contradado_credor data_status  \n",
       "0                 1                      0  28/11/2012  \n",
       "1                 1                      0  10/03/2014  "
      ]
     },
     "execution_count": 22,
     "metadata": {},
     "output_type": "execute_result"
    }
   ],
   "source": [
    "# aqui uma consulta no DataFrame do estado de Santa Catarina\n",
    "data_sc = get_api(uf='SC', interesse='Estado')\n",
    "data_sc.head(2)"
   ]
  },
  {
   "cell_type": "code",
   "execution_count": 30,
   "metadata": {},
   "outputs": [
    {
     "data": {
      "text/plain": [
       "False    39\n",
       "True      1\n",
       "Name: status, dtype: int64"
      ]
     },
     "execution_count": 30,
     "metadata": {},
     "output_type": "execute_result"
    }
   ],
   "source": [
    "# 2) Seu código aqui\n",
    "data_mg = get_api(uf='MG', interesse='Estado')\n",
    "(data_mg['status'] == 'Arquivado por decurso de prazo').value_counts()\n",
    "# como podemos ver, apenas uma solicitação contém esse status"
   ]
  },
  {
   "cell_type": "code",
   "execution_count": 52,
   "metadata": {},
   "outputs": [
    {
     "data": {
      "text/plain": [
       "Luís Eduardo Magalhães    14\n",
       "Vitória da Conquista      11\n",
       "Lauro de Freitas          10\n",
       "Camaçari                  10\n",
       "Barreiras                  9\n",
       "                          ..\n",
       "Paramirim                  1\n",
       "Mucugê                     1\n",
       "Santana                    1\n",
       "Ituaçu                     1\n",
       "Barra                      1\n",
       "Name: interessado, Length: 175, dtype: int64"
      ]
     },
     "execution_count": 52,
     "metadata": {},
     "output_type": "execute_result"
    }
   ],
   "source": [
    "# 3) Seu código aqui\n",
    "data_ba_mun = get_api(uf='BA', interesse='Município')\n",
    "deferidos = (data_ba_mun['status'] == 'Deferido')\n",
    "data_ba_mun[deferidos]['interessado'].value_counts()\n",
    "# como podemos ver abaixo, o município com maior quantidade de solicitações deferidas foi\n",
    "# Luís Eduardo Magalhães"
   ]
  },
  {
   "cell_type": "code",
   "execution_count": 65,
   "metadata": {},
   "outputs": [],
   "source": [
    "# 4) Seu código aqui\n",
    "data_ba = get_api(uf='BA', interesse='Estado')\n",
    "data_ba.to_csv('data_ba.csv')"
   ]
  }
 ],
 "metadata": {
  "kernelspec": {
   "display_name": "Python 3 (ipykernel)",
   "language": "python",
   "name": "python3"
  },
  "language_info": {
   "codemirror_mode": {
    "name": "ipython",
    "version": 3
   },
   "file_extension": ".py",
   "mimetype": "text/x-python",
   "name": "python",
   "nbconvert_exporter": "python",
   "pygments_lexer": "ipython3",
   "version": "3.9.12"
  }
 },
 "nbformat": 4,
 "nbformat_minor": 4
}
