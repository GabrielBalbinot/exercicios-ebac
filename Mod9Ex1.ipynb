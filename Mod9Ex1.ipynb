{
 "cells": [
  {
   "cell_type": "markdown",
   "metadata": {
    "id": "OLfG1QjIIXE7"
   },
   "source": [
    "# Livro para consulta:\n",
    "- https://jakevdp.github.io/PythonDataScienceHandbook/03.08-aggregation-and-grouping.html\n",
    "- https://jakevdp.github.io/PythonDataScienceHandbook/03.09-pivot-tables.html\n",
    "    "
   ]
  },
  {
   "cell_type": "markdown",
   "metadata": {
    "id": "PyWq2zsCIXE7"
   },
   "source": [
    "# 1. Importando bibliotecas <a name=\"import\"></a>\n",
    "\n",
    "<div style=\"text-align: right\"\n",
    "     \n",
    "[Voltar ao índice](#Contents)"
   ]
  },
  {
   "cell_type": "code",
   "execution_count": 1,
   "metadata": {
    "ExecuteTime": {
     "end_time": "2021-06-06T21:12:37.298706Z",
     "start_time": "2021-06-06T21:12:36.656481Z"
    },
    "id": "19Od3FfvIXFL"
   },
   "outputs": [],
   "source": [
    "import numpy as np\n",
    "import pandas as pd\n",
    "import seaborn as sns\n",
    "import matplotlib.pyplot as plt\n",
    "\n",
    "%matplotlib inline"
   ]
  },
  {
   "cell_type": "markdown",
   "metadata": {
    "id": "JJuHdlZRIXFL"
   },
   "source": [
    "# 2. Carregando o dataframe SINASC <a name=\"read\"></a>\n",
    "<div style=\"text-align: right\"\n",
    "     \n",
    "[Voltar ao índice](#Contents)"
   ]
  },
  {
   "cell_type": "code",
   "execution_count": 2,
   "metadata": {
    "ExecuteTime": {
     "end_time": "2021-06-06T21:12:37.762376Z",
     "start_time": "2021-06-06T21:12:37.728383Z"
    },
    "colab": {
     "base_uri": "https://localhost:8080/",
     "height": 0
    },
    "id": "ehbMzEntIXFL",
    "outputId": "232b0cb3-89a8-49da-b23a-d492a9ece32a",
    "scrolled": true
   },
   "outputs": [
    {
     "data": {
      "text/html": [
       "<div>\n",
       "<style scoped>\n",
       "    .dataframe tbody tr th:only-of-type {\n",
       "        vertical-align: middle;\n",
       "    }\n",
       "\n",
       "    .dataframe tbody tr th {\n",
       "        vertical-align: top;\n",
       "    }\n",
       "\n",
       "    .dataframe thead th {\n",
       "        text-align: right;\n",
       "    }\n",
       "</style>\n",
       "<table border=\"1\" class=\"dataframe\">\n",
       "  <thead>\n",
       "    <tr style=\"text-align: right;\">\n",
       "      <th></th>\n",
       "      <th>ORIGEM</th>\n",
       "      <th>CODESTAB</th>\n",
       "      <th>CODMUNNASC</th>\n",
       "      <th>LOCNASC</th>\n",
       "      <th>IDADEMAE</th>\n",
       "      <th>ESTCIVMAE</th>\n",
       "      <th>ESCMAE</th>\n",
       "      <th>CODOCUPMAE</th>\n",
       "      <th>QTDFILVIVO</th>\n",
       "      <th>QTDFILMORT</th>\n",
       "      <th>...</th>\n",
       "      <th>KOTELCHUCK</th>\n",
       "      <th>CONTADOR</th>\n",
       "      <th>munResStatus</th>\n",
       "      <th>munResTipo</th>\n",
       "      <th>munResNome</th>\n",
       "      <th>munResUf</th>\n",
       "      <th>munResLat</th>\n",
       "      <th>munResLon</th>\n",
       "      <th>munResAlt</th>\n",
       "      <th>munResArea</th>\n",
       "    </tr>\n",
       "  </thead>\n",
       "  <tbody>\n",
       "    <tr>\n",
       "      <th>0</th>\n",
       "      <td>1</td>\n",
       "      <td>2679477.0</td>\n",
       "      <td>110001</td>\n",
       "      <td>1</td>\n",
       "      <td>19</td>\n",
       "      <td>5.0</td>\n",
       "      <td>8 a 11 anos</td>\n",
       "      <td>NaN</td>\n",
       "      <td>0.0</td>\n",
       "      <td>0.0</td>\n",
       "      <td>...</td>\n",
       "      <td>5</td>\n",
       "      <td>1</td>\n",
       "      <td>ATIVO</td>\n",
       "      <td>MUNIC</td>\n",
       "      <td>Alta Floresta D'Oeste</td>\n",
       "      <td>Rondônia</td>\n",
       "      <td>-11.93554</td>\n",
       "      <td>-61.99982</td>\n",
       "      <td>338.0</td>\n",
       "      <td>7067.025</td>\n",
       "    </tr>\n",
       "    <tr>\n",
       "      <th>1</th>\n",
       "      <td>1</td>\n",
       "      <td>2679477.0</td>\n",
       "      <td>110001</td>\n",
       "      <td>1</td>\n",
       "      <td>29</td>\n",
       "      <td>2.0</td>\n",
       "      <td>8 a 11 anos</td>\n",
       "      <td>999992.0</td>\n",
       "      <td>1.0</td>\n",
       "      <td>0.0</td>\n",
       "      <td>...</td>\n",
       "      <td>5</td>\n",
       "      <td>2</td>\n",
       "      <td>ATIVO</td>\n",
       "      <td>MUNIC</td>\n",
       "      <td>Alta Floresta D'Oeste</td>\n",
       "      <td>Rondônia</td>\n",
       "      <td>-11.93554</td>\n",
       "      <td>-61.99982</td>\n",
       "      <td>338.0</td>\n",
       "      <td>7067.025</td>\n",
       "    </tr>\n",
       "    <tr>\n",
       "      <th>2</th>\n",
       "      <td>1</td>\n",
       "      <td>2679477.0</td>\n",
       "      <td>110001</td>\n",
       "      <td>1</td>\n",
       "      <td>37</td>\n",
       "      <td>9.0</td>\n",
       "      <td>8 a 11 anos</td>\n",
       "      <td>513205.0</td>\n",
       "      <td>2.0</td>\n",
       "      <td>0.0</td>\n",
       "      <td>...</td>\n",
       "      <td>5</td>\n",
       "      <td>3</td>\n",
       "      <td>ATIVO</td>\n",
       "      <td>MUNIC</td>\n",
       "      <td>Alta Floresta D'Oeste</td>\n",
       "      <td>Rondônia</td>\n",
       "      <td>-11.93554</td>\n",
       "      <td>-61.99982</td>\n",
       "      <td>338.0</td>\n",
       "      <td>7067.025</td>\n",
       "    </tr>\n",
       "    <tr>\n",
       "      <th>3</th>\n",
       "      <td>1</td>\n",
       "      <td>2516500.0</td>\n",
       "      <td>110001</td>\n",
       "      <td>1</td>\n",
       "      <td>30</td>\n",
       "      <td>5.0</td>\n",
       "      <td>12 anos ou mais</td>\n",
       "      <td>231205.0</td>\n",
       "      <td>0.0</td>\n",
       "      <td>0.0</td>\n",
       "      <td>...</td>\n",
       "      <td>4</td>\n",
       "      <td>4</td>\n",
       "      <td>ATIVO</td>\n",
       "      <td>MUNIC</td>\n",
       "      <td>Alto Alegre dos Parecis</td>\n",
       "      <td>Rondônia</td>\n",
       "      <td>-12.13178</td>\n",
       "      <td>-61.85308</td>\n",
       "      <td>397.0</td>\n",
       "      <td>3958.273</td>\n",
       "    </tr>\n",
       "    <tr>\n",
       "      <th>4</th>\n",
       "      <td>1</td>\n",
       "      <td>2516500.0</td>\n",
       "      <td>110001</td>\n",
       "      <td>1</td>\n",
       "      <td>30</td>\n",
       "      <td>2.0</td>\n",
       "      <td>8 a 11 anos</td>\n",
       "      <td>999992.0</td>\n",
       "      <td>1.0</td>\n",
       "      <td>0.0</td>\n",
       "      <td>...</td>\n",
       "      <td>5</td>\n",
       "      <td>5</td>\n",
       "      <td>ATIVO</td>\n",
       "      <td>MUNIC</td>\n",
       "      <td>Alta Floresta D'Oeste</td>\n",
       "      <td>Rondônia</td>\n",
       "      <td>-11.93554</td>\n",
       "      <td>-61.99982</td>\n",
       "      <td>338.0</td>\n",
       "      <td>7067.025</td>\n",
       "    </tr>\n",
       "  </tbody>\n",
       "</table>\n",
       "<p>5 rows × 69 columns</p>\n",
       "</div>"
      ],
      "text/plain": [
       "   ORIGEM   CODESTAB  CODMUNNASC  LOCNASC  IDADEMAE  ESTCIVMAE  \\\n",
       "0       1  2679477.0      110001        1        19        5.0   \n",
       "1       1  2679477.0      110001        1        29        2.0   \n",
       "2       1  2679477.0      110001        1        37        9.0   \n",
       "3       1  2516500.0      110001        1        30        5.0   \n",
       "4       1  2516500.0      110001        1        30        2.0   \n",
       "\n",
       "            ESCMAE  CODOCUPMAE  QTDFILVIVO  QTDFILMORT  ...  KOTELCHUCK  \\\n",
       "0      8 a 11 anos         NaN         0.0         0.0  ...           5   \n",
       "1      8 a 11 anos    999992.0         1.0         0.0  ...           5   \n",
       "2      8 a 11 anos    513205.0         2.0         0.0  ...           5   \n",
       "3  12 anos ou mais    231205.0         0.0         0.0  ...           4   \n",
       "4      8 a 11 anos    999992.0         1.0         0.0  ...           5   \n",
       "\n",
       "  CONTADOR munResStatus munResTipo               munResNome  munResUf  \\\n",
       "0        1        ATIVO      MUNIC    Alta Floresta D'Oeste  Rondônia   \n",
       "1        2        ATIVO      MUNIC    Alta Floresta D'Oeste  Rondônia   \n",
       "2        3        ATIVO      MUNIC    Alta Floresta D'Oeste  Rondônia   \n",
       "3        4        ATIVO      MUNIC  Alto Alegre dos Parecis  Rondônia   \n",
       "4        5        ATIVO      MUNIC    Alta Floresta D'Oeste  Rondônia   \n",
       "\n",
       "   munResLat munResLon  munResAlt  munResArea  \n",
       "0  -11.93554 -61.99982      338.0    7067.025  \n",
       "1  -11.93554 -61.99982      338.0    7067.025  \n",
       "2  -11.93554 -61.99982      338.0    7067.025  \n",
       "3  -12.13178 -61.85308      397.0    3958.273  \n",
       "4  -11.93554 -61.99982      338.0    7067.025  \n",
       "\n",
       "[5 rows x 69 columns]"
      ]
     },
     "execution_count": 2,
     "metadata": {},
     "output_type": "execute_result"
    }
   ],
   "source": [
    "sinasc_raw = pd.read_csv('SINASC_RO_2019.csv')\n",
    "sinasc_raw.head()"
   ]
  },
  {
   "cell_type": "markdown",
   "metadata": {
    "id": "uk1bw0WOIXFL"
   },
   "source": [
    "# Tarefa 1"
   ]
  },
  {
   "cell_type": "markdown",
   "metadata": {
    "id": "M0xxj_RWIXFL"
   },
   "source": [
    "### 1. Idade media das mães e dos pais por município (coluna munResNome)\n"
   ]
  },
  {
   "cell_type": "code",
   "execution_count": 3,
   "metadata": {
    "colab": {
     "base_uri": "https://localhost:8080/",
     "height": 0
    },
    "id": "mvxsz2QiIXFa",
    "outputId": "8deaeb7f-6c72-4826-fd55-4980a3684075"
   },
   "outputs": [
    {
     "data": {
      "text/html": [
       "<div>\n",
       "<style scoped>\n",
       "    .dataframe tbody tr th:only-of-type {\n",
       "        vertical-align: middle;\n",
       "    }\n",
       "\n",
       "    .dataframe tbody tr th {\n",
       "        vertical-align: top;\n",
       "    }\n",
       "\n",
       "    .dataframe thead th {\n",
       "        text-align: right;\n",
       "    }\n",
       "</style>\n",
       "<table border=\"1\" class=\"dataframe\">\n",
       "  <thead>\n",
       "    <tr style=\"text-align: right;\">\n",
       "      <th></th>\n",
       "      <th>munResNome</th>\n",
       "      <th>IDADEMAE</th>\n",
       "      <th>IDADEPAI</th>\n",
       "    </tr>\n",
       "  </thead>\n",
       "  <tbody>\n",
       "    <tr>\n",
       "      <th>0</th>\n",
       "      <td>Alta Floresta D'Oeste</td>\n",
       "      <td>19</td>\n",
       "      <td>26.0</td>\n",
       "    </tr>\n",
       "    <tr>\n",
       "      <th>1</th>\n",
       "      <td>Alta Floresta D'Oeste</td>\n",
       "      <td>29</td>\n",
       "      <td>24.0</td>\n",
       "    </tr>\n",
       "    <tr>\n",
       "      <th>2</th>\n",
       "      <td>Alta Floresta D'Oeste</td>\n",
       "      <td>37</td>\n",
       "      <td>32.0</td>\n",
       "    </tr>\n",
       "    <tr>\n",
       "      <th>3</th>\n",
       "      <td>Alto Alegre dos Parecis</td>\n",
       "      <td>30</td>\n",
       "      <td>24.0</td>\n",
       "    </tr>\n",
       "    <tr>\n",
       "      <th>4</th>\n",
       "      <td>Alta Floresta D'Oeste</td>\n",
       "      <td>30</td>\n",
       "      <td>27.0</td>\n",
       "    </tr>\n",
       "  </tbody>\n",
       "</table>\n",
       "</div>"
      ],
      "text/plain": [
       "                munResNome  IDADEMAE  IDADEPAI\n",
       "0    Alta Floresta D'Oeste        19      26.0\n",
       "1    Alta Floresta D'Oeste        29      24.0\n",
       "2    Alta Floresta D'Oeste        37      32.0\n",
       "3  Alto Alegre dos Parecis        30      24.0\n",
       "4    Alta Floresta D'Oeste        30      27.0"
      ]
     },
     "execution_count": 3,
     "metadata": {},
     "output_type": "execute_result"
    }
   ],
   "source": [
    "sinasc_a = sinasc_raw[['munResNome', 'IDADEMAE', 'IDADEPAI']]\n",
    "sinasc_a.head(5)"
   ]
  },
  {
   "cell_type": "markdown",
   "metadata": {
    "id": "gaCumQapRex0"
   },
   "source": [
    "Como podemos ver abaixo, a variável `IDADEPAI` possui a maior parte dos dados como faltantes, por isso irei remover essas linhas."
   ]
  },
  {
   "cell_type": "code",
   "execution_count": 4,
   "metadata": {
    "colab": {
     "base_uri": "https://localhost:8080/"
    },
    "id": "lEJ31OJFQCaN",
    "outputId": "1ec9ff2f-7e6e-4cac-f45a-15f4eb5d69f6"
   },
   "outputs": [
    {
     "data": {
      "text/plain": [
       "munResNome        0\n",
       "IDADEMAE          0\n",
       "IDADEPAI      19421\n",
       "dtype: int64"
      ]
     },
     "execution_count": 4,
     "metadata": {},
     "output_type": "execute_result"
    }
   ],
   "source": [
    "sinasc_a.isna().sum()"
   ]
  },
  {
   "cell_type": "code",
   "execution_count": 5,
   "metadata": {
    "colab": {
     "base_uri": "https://localhost:8080/"
    },
    "id": "_guAmJ8pRo_b",
    "outputId": "19471097-4a24-4409-f6de-ed5222d8698f"
   },
   "outputs": [
    {
     "data": {
      "text/plain": [
       "(7607, 3)"
      ]
     },
     "execution_count": 5,
     "metadata": {},
     "output_type": "execute_result"
    }
   ],
   "source": [
    "sinasc_a = sinasc_a.dropna()\n",
    "sinasc_a.shape"
   ]
  },
  {
   "cell_type": "markdown",
   "metadata": {
    "id": "4XdsQ8HV8dGj"
   },
   "source": [
    "Como podemos ver abaixo, a média das idades do pai é superior na maior parte dos munícipios."
   ]
  },
  {
   "cell_type": "code",
   "execution_count": 6,
   "metadata": {
    "colab": {
     "base_uri": "https://localhost:8080/",
     "height": 0
    },
    "id": "IBBzipuyOrmH",
    "outputId": "f4ff8e7a-fac7-4b7d-9fc2-19cca88a8bdd"
   },
   "outputs": [
    {
     "data": {
      "text/plain": [
       "<AxesSubplot:>"
      ]
     },
     "execution_count": 6,
     "metadata": {},
     "output_type": "execute_result"
    },
    {
     "data": {
      "image/png": "[encoded data removed]",
      "text/plain": [
       "<Figure size 432x288 with 1 Axes>"
      ]
     },
     "metadata": {
      "needs_background": "light"
     },
     "output_type": "display_data"
    }
   ],
   "source": [
    "mun = sinasc_a.groupby('munResNome')\n",
    "mun.mean().plot(use_index=False)\n",
    "# o use_index=False foi usado para não deixar os ticks x muito poluídos"
   ]
  },
  {
   "cell_type": "markdown",
   "metadata": {
    "id": "oAxsdppfIXFa"
   },
   "source": [
    "### 2. Peso médio dos bebes por sexo que nasceram no dia do seu aniversário por faixas de escolaridade mae\n",
    "Ex: Você, aluna(o), nasceu no dia 10/01, então você precisa filtrar o conjunto de dados nessa data e calcular o peso médio dos bebês de cada sexo por faixa de escolaridade da mãe."
   ]
  },
  {
   "cell_type": "code",
   "execution_count": 7,
   "metadata": {
    "colab": {
     "base_uri": "https://localhost:8080/"
    },
    "id": "L8gqdEyzIXFa",
    "outputId": "ee814390-caca-46e4-db96-c0171589d71b"
   },
   "outputs": [
    {
     "data": {
      "text/plain": [
       "ESCMAE    312\n",
       "DTNASC      0\n",
       "SEXO        4\n",
       "PESO        0\n",
       "dtype: int64"
      ]
     },
     "execution_count": 7,
     "metadata": {},
     "output_type": "execute_result"
    }
   ],
   "source": [
    "sinasc_b = sinasc_raw[['ESCMAE' ,'DTNASC', 'SEXO', 'PESO']]\n",
    "sinasc_b.isna().sum()"
   ]
  },
  {
   "cell_type": "markdown",
   "metadata": {
    "id": "S8MXOy6IVk-d"
   },
   "source": [
    "Novamente o DataFrame possuí dados faltantes, então irei remove-los:"
   ]
  },
  {
   "cell_type": "code",
   "execution_count": 8,
   "metadata": {
    "colab": {
     "base_uri": "https://localhost:8080/"
    },
    "id": "mPzPpc-JVq6r",
    "outputId": "b082df67-434c-4298-fc0e-fcf1615993de"
   },
   "outputs": [
    {
     "data": {
      "text/plain": [
       "(26712, 4)"
      ]
     },
     "execution_count": 8,
     "metadata": {},
     "output_type": "execute_result"
    }
   ],
   "source": [
    "sinasc_b = sinasc_b.dropna()\n",
    "sinasc_b.shape"
   ]
  },
  {
   "cell_type": "code",
   "execution_count": 9,
   "metadata": {
    "colab": {
     "base_uri": "https://localhost:8080/"
    },
    "id": "OGzoosghVyZG",
    "outputId": "bd336bcc-d844-4776-9fbd-6c3842cd32a3"
   },
   "outputs": [
    {
     "data": {
      "text/plain": [
       "ESCMAE    0\n",
       "DTNASC    0\n",
       "SEXO      0\n",
       "PESO      0\n",
       "dtype: int64"
      ]
     },
     "execution_count": 9,
     "metadata": {},
     "output_type": "execute_result"
    }
   ],
   "source": [
    "sinasc_b.isna().sum()"
   ]
  },
  {
   "cell_type": "code",
   "execution_count": 10,
   "metadata": {
    "id": "Zn5skOzrWkmc"
   },
   "outputs": [],
   "source": [
    "sinasc_aniversario = sinasc_b.loc[sinasc_b['DTNASC'] == '2019-08-29']"
   ]
  },
  {
   "cell_type": "code",
   "execution_count": 11,
   "metadata": {
    "colab": {
     "base_uri": "https://localhost:8080/",
     "height": 424
    },
    "id": "aWKGYPTxeAiW",
    "outputId": "210ecebc-2c30-4e10-f76b-f55997b9bd07"
   },
   "outputs": [
    {
     "data": {
      "text/html": [
       "<div>\n",
       "<style scoped>\n",
       "    .dataframe tbody tr th:only-of-type {\n",
       "        vertical-align: middle;\n",
       "    }\n",
       "\n",
       "    .dataframe tbody tr th {\n",
       "        vertical-align: top;\n",
       "    }\n",
       "\n",
       "    .dataframe thead th {\n",
       "        text-align: right;\n",
       "    }\n",
       "</style>\n",
       "<table border=\"1\" class=\"dataframe\">\n",
       "  <thead>\n",
       "    <tr style=\"text-align: right;\">\n",
       "      <th></th>\n",
       "      <th>ESCMAE</th>\n",
       "      <th>DTNASC</th>\n",
       "      <th>SEXO</th>\n",
       "      <th>PESO</th>\n",
       "    </tr>\n",
       "  </thead>\n",
       "  <tbody>\n",
       "    <tr>\n",
       "      <th>13772</th>\n",
       "      <td>8 a 11 anos</td>\n",
       "      <td>2019-08-29</td>\n",
       "      <td>Feminino</td>\n",
       "      <td>2885</td>\n",
       "    </tr>\n",
       "    <tr>\n",
       "      <th>14072</th>\n",
       "      <td>8 a 11 anos</td>\n",
       "      <td>2019-08-29</td>\n",
       "      <td>Masculino</td>\n",
       "      <td>3055</td>\n",
       "    </tr>\n",
       "    <tr>\n",
       "      <th>14073</th>\n",
       "      <td>4 a 7 anos</td>\n",
       "      <td>2019-08-29</td>\n",
       "      <td>Feminino</td>\n",
       "      <td>3350</td>\n",
       "    </tr>\n",
       "    <tr>\n",
       "      <th>14097</th>\n",
       "      <td>8 a 11 anos</td>\n",
       "      <td>2019-08-29</td>\n",
       "      <td>Masculino</td>\n",
       "      <td>3180</td>\n",
       "    </tr>\n",
       "    <tr>\n",
       "      <th>14125</th>\n",
       "      <td>4 a 7 anos</td>\n",
       "      <td>2019-08-29</td>\n",
       "      <td>Masculino</td>\n",
       "      <td>3150</td>\n",
       "    </tr>\n",
       "    <tr>\n",
       "      <th>...</th>\n",
       "      <td>...</td>\n",
       "      <td>...</td>\n",
       "      <td>...</td>\n",
       "      <td>...</td>\n",
       "    </tr>\n",
       "    <tr>\n",
       "      <th>25318</th>\n",
       "      <td>8 a 11 anos</td>\n",
       "      <td>2019-08-29</td>\n",
       "      <td>Masculino</td>\n",
       "      <td>4370</td>\n",
       "    </tr>\n",
       "    <tr>\n",
       "      <th>25319</th>\n",
       "      <td>8 a 11 anos</td>\n",
       "      <td>2019-08-29</td>\n",
       "      <td>Masculino</td>\n",
       "      <td>2800</td>\n",
       "    </tr>\n",
       "    <tr>\n",
       "      <th>25320</th>\n",
       "      <td>12 anos ou mais</td>\n",
       "      <td>2019-08-29</td>\n",
       "      <td>Masculino</td>\n",
       "      <td>2360</td>\n",
       "    </tr>\n",
       "    <tr>\n",
       "      <th>26298</th>\n",
       "      <td>8 a 11 anos</td>\n",
       "      <td>2019-08-29</td>\n",
       "      <td>Feminino</td>\n",
       "      <td>3325</td>\n",
       "    </tr>\n",
       "    <tr>\n",
       "      <th>26864</th>\n",
       "      <td>4 a 7 anos</td>\n",
       "      <td>2019-08-29</td>\n",
       "      <td>Feminino</td>\n",
       "      <td>3190</td>\n",
       "    </tr>\n",
       "  </tbody>\n",
       "</table>\n",
       "<p>83 rows × 4 columns</p>\n",
       "</div>"
      ],
      "text/plain": [
       "                ESCMAE      DTNASC       SEXO  PESO\n",
       "13772      8 a 11 anos  2019-08-29   Feminino  2885\n",
       "14072      8 a 11 anos  2019-08-29  Masculino  3055\n",
       "14073       4 a 7 anos  2019-08-29   Feminino  3350\n",
       "14097      8 a 11 anos  2019-08-29  Masculino  3180\n",
       "14125       4 a 7 anos  2019-08-29  Masculino  3150\n",
       "...                ...         ...        ...   ...\n",
       "25318      8 a 11 anos  2019-08-29  Masculino  4370\n",
       "25319      8 a 11 anos  2019-08-29  Masculino  2800\n",
       "25320  12 anos ou mais  2019-08-29  Masculino  2360\n",
       "26298      8 a 11 anos  2019-08-29   Feminino  3325\n",
       "26864       4 a 7 anos  2019-08-29   Feminino  3190\n",
       "\n",
       "[83 rows x 4 columns]"
      ]
     },
     "execution_count": 11,
     "metadata": {},
     "output_type": "execute_result"
    }
   ],
   "source": [
    "sinasc_aniversario"
   ]
  },
  {
   "cell_type": "markdown",
   "metadata": {
    "id": "lyCcoRFEJB5o"
   },
   "source": [
    "Abaixo um comparativo entre ambos os sexos dividios pela variável `ESCMAE`. "
   ]
  },
  {
   "cell_type": "code",
   "execution_count": 12,
   "metadata": {
    "colab": {
     "base_uri": "https://localhost:8080/",
     "height": 296
    },
    "id": "szwF3_eEeMa7",
    "outputId": "888db573-c1d8-4855-ee9f-9d2f1245283e"
   },
   "outputs": [
    {
     "data": {
      "text/plain": [
       "<AxesSubplot:xlabel='ESCMAE', ylabel='PESO'>"
      ]
     },
     "execution_count": 12,
     "metadata": {},
     "output_type": "execute_result"
    },
    {
     "data": {
      "image/png": "[encoded data removed]",
      "text/plain": [
       "<Figure size 432x288 with 1 Axes>"
      ]
     },
     "metadata": {
      "needs_background": "light"
     },
     "output_type": "display_data"
    }
   ],
   "source": [
    "sns.barplot(data=sinasc_aniversario, x='ESCMAE', y = 'PESO',  hue='SEXO', ci=False)"
   ]
  },
  {
   "cell_type": "markdown",
   "metadata": {
    "id": "ivT0j5zTKZxQ"
   },
   "source": [
    "Utilizando o método `groupby` chegamos aos mesmos valores que o demonstrado acima com o gráfico:"
   ]
  },
  {
   "cell_type": "code",
   "execution_count": 13,
   "metadata": {
    "colab": {
     "base_uri": "https://localhost:8080/",
     "height": 175
    },
    "id": "oYYMKjTEXA2s",
    "outputId": "cc6cf217-a0ad-4f10-e723-29fca20ac88d"
   },
   "outputs": [
    {
     "data": {
      "text/html": [
       "<div>\n",
       "<style scoped>\n",
       "    .dataframe tbody tr th:only-of-type {\n",
       "        vertical-align: middle;\n",
       "    }\n",
       "\n",
       "    .dataframe tbody tr th {\n",
       "        vertical-align: top;\n",
       "    }\n",
       "\n",
       "    .dataframe thead th {\n",
       "        text-align: right;\n",
       "    }\n",
       "</style>\n",
       "<table border=\"1\" class=\"dataframe\">\n",
       "  <thead>\n",
       "    <tr style=\"text-align: right;\">\n",
       "      <th></th>\n",
       "      <th>PESO</th>\n",
       "    </tr>\n",
       "    <tr>\n",
       "      <th>ESCMAE</th>\n",
       "      <th></th>\n",
       "    </tr>\n",
       "  </thead>\n",
       "  <tbody>\n",
       "    <tr>\n",
       "      <th>12 anos ou mais</th>\n",
       "      <td>3197.000000</td>\n",
       "    </tr>\n",
       "    <tr>\n",
       "      <th>4 a 7 anos</th>\n",
       "      <td>3098.812500</td>\n",
       "    </tr>\n",
       "    <tr>\n",
       "      <th>8 a 11 anos</th>\n",
       "      <td>3409.826087</td>\n",
       "    </tr>\n",
       "  </tbody>\n",
       "</table>\n",
       "</div>"
      ],
      "text/plain": [
       "                        PESO\n",
       "ESCMAE                      \n",
       "12 anos ou mais  3197.000000\n",
       "4 a 7 anos       3098.812500\n",
       "8 a 11 anos      3409.826087"
      ]
     },
     "execution_count": 13,
     "metadata": {},
     "output_type": "execute_result"
    }
   ],
   "source": [
    "fem = sinasc_aniversario[sinasc_aniversario['SEXO'] == 'Feminino'].groupby('ESCMAE').mean()\n",
    "fem"
   ]
  },
  {
   "cell_type": "code",
   "execution_count": 14,
   "metadata": {
    "colab": {
     "base_uri": "https://localhost:8080/",
     "height": 279
    },
    "id": "2UtHqfXscJvN",
    "outputId": "399a2dff-76f7-472b-ffa8-06e5da982e7a"
   },
   "outputs": [
    {
     "data": {
      "image/png": "[encoded data removed]",
      "text/plain": [
       "<Figure size 432x288 with 1 Axes>"
      ]
     },
     "metadata": {
      "needs_background": "light"
     },
     "output_type": "display_data"
    }
   ],
   "source": [
    "fem_graph = sns.barplot(data=fem.T)"
   ]
  },
  {
   "cell_type": "code",
   "execution_count": 15,
   "metadata": {
    "colab": {
     "base_uri": "https://localhost:8080/",
     "height": 206
    },
    "id": "HNsSNuxfapmd",
    "outputId": "9a9539c9-5df2-442c-ffe8-ce70a5774bb4"
   },
   "outputs": [
    {
     "data": {
      "text/html": [
       "<div>\n",
       "<style scoped>\n",
       "    .dataframe tbody tr th:only-of-type {\n",
       "        vertical-align: middle;\n",
       "    }\n",
       "\n",
       "    .dataframe tbody tr th {\n",
       "        vertical-align: top;\n",
       "    }\n",
       "\n",
       "    .dataframe thead th {\n",
       "        text-align: right;\n",
       "    }\n",
       "</style>\n",
       "<table border=\"1\" class=\"dataframe\">\n",
       "  <thead>\n",
       "    <tr style=\"text-align: right;\">\n",
       "      <th></th>\n",
       "      <th>PESO</th>\n",
       "    </tr>\n",
       "    <tr>\n",
       "      <th>ESCMAE</th>\n",
       "      <th></th>\n",
       "    </tr>\n",
       "  </thead>\n",
       "  <tbody>\n",
       "    <tr>\n",
       "      <th>1 a 3 anos</th>\n",
       "      <td>2730.000000</td>\n",
       "    </tr>\n",
       "    <tr>\n",
       "      <th>12 anos ou mais</th>\n",
       "      <td>2985.000000</td>\n",
       "    </tr>\n",
       "    <tr>\n",
       "      <th>4 a 7 anos</th>\n",
       "      <td>2945.000000</td>\n",
       "    </tr>\n",
       "    <tr>\n",
       "      <th>8 a 11 anos</th>\n",
       "      <td>3368.166667</td>\n",
       "    </tr>\n",
       "  </tbody>\n",
       "</table>\n",
       "</div>"
      ],
      "text/plain": [
       "                        PESO\n",
       "ESCMAE                      \n",
       "1 a 3 anos       2730.000000\n",
       "12 anos ou mais  2985.000000\n",
       "4 a 7 anos       2945.000000\n",
       "8 a 11 anos      3368.166667"
      ]
     },
     "execution_count": 15,
     "metadata": {},
     "output_type": "execute_result"
    }
   ],
   "source": [
    "masc = sinasc_aniversario[sinasc_aniversario['SEXO'] == 'Masculino'].groupby('ESCMAE').mean()\n",
    "masc"
   ]
  },
  {
   "cell_type": "code",
   "execution_count": 16,
   "metadata": {
    "colab": {
     "base_uri": "https://localhost:8080/",
     "height": 281
    },
    "id": "Rxwrh5jmbL5s",
    "outputId": "386babc8-9982-47c0-98b0-15ffc3b8358e"
   },
   "outputs": [
    {
     "data": {
      "image/png": "[encoded data removed]",
      "text/plain": [
       "<Figure size 432x288 with 1 Axes>"
      ]
     },
     "metadata": {
      "needs_background": "light"
     },
     "output_type": "display_data"
    }
   ],
   "source": [
    "masc_graph = sns.barplot(data=masc.T)"
   ]
  },
  {
   "cell_type": "markdown",
   "metadata": {
    "id": "yHqo-9XoIXFa"
   },
   "source": [
    "### 3. Qual o municipio que nasceu menos bebe em 2019?\n",
    "    - qual a idade media, maxima, minima das maes nesse municipio?\n",
    "    - qual a idade media, maxima, minima dos pais nesse municipio?"
   ]
  },
  {
   "cell_type": "code",
   "execution_count": 17,
   "metadata": {
    "colab": {
     "base_uri": "https://localhost:8080/",
     "height": 238
    },
    "id": "WrGrXymONQi_",
    "outputId": "4d3f42ae-b385-4ee1-f44a-e19d483dcdf4"
   },
   "outputs": [
    {
     "data": {
      "text/html": [
       "<div>\n",
       "<style scoped>\n",
       "    .dataframe tbody tr th:only-of-type {\n",
       "        vertical-align: middle;\n",
       "    }\n",
       "\n",
       "    .dataframe tbody tr th {\n",
       "        vertical-align: top;\n",
       "    }\n",
       "\n",
       "    .dataframe thead th {\n",
       "        text-align: right;\n",
       "    }\n",
       "</style>\n",
       "<table border=\"1\" class=\"dataframe\">\n",
       "  <thead>\n",
       "    <tr style=\"text-align: right;\">\n",
       "      <th></th>\n",
       "      <th>IDADEMAE</th>\n",
       "      <th>IDADEPAI</th>\n",
       "    </tr>\n",
       "    <tr>\n",
       "      <th>munResNome</th>\n",
       "      <th></th>\n",
       "      <th></th>\n",
       "    </tr>\n",
       "  </thead>\n",
       "  <tbody>\n",
       "    <tr>\n",
       "      <th>Rio Crespo</th>\n",
       "      <td>1</td>\n",
       "      <td>1</td>\n",
       "    </tr>\n",
       "    <tr>\n",
       "      <th>Município ignorado - RO</th>\n",
       "      <td>1</td>\n",
       "      <td>1</td>\n",
       "    </tr>\n",
       "    <tr>\n",
       "      <th>Pimenteiras do Oeste</th>\n",
       "      <td>5</td>\n",
       "      <td>5</td>\n",
       "    </tr>\n",
       "    <tr>\n",
       "      <th>Alto Paraíso</th>\n",
       "      <td>6</td>\n",
       "      <td>6</td>\n",
       "    </tr>\n",
       "    <tr>\n",
       "      <th>Cabixi</th>\n",
       "      <td>6</td>\n",
       "      <td>6</td>\n",
       "    </tr>\n",
       "  </tbody>\n",
       "</table>\n",
       "</div>"
      ],
      "text/plain": [
       "                         IDADEMAE  IDADEPAI\n",
       "munResNome                                 \n",
       "Rio Crespo                      1         1\n",
       "Município ignorado - RO         1         1\n",
       "Pimenteiras do Oeste            5         5\n",
       "Alto Paraíso                    6         6\n",
       "Cabixi                          6         6"
      ]
     },
     "execution_count": 17,
     "metadata": {},
     "output_type": "execute_result"
    }
   ],
   "source": [
    "mun.count().sort_values(by='IDADEMAE').head(5)"
   ]
  },
  {
   "cell_type": "code",
   "execution_count": 18,
   "metadata": {
    "id": "NfnJtTguO3dp"
   },
   "outputs": [],
   "source": [
    "rio_crespo = sinasc_a[sinasc_a['munResNome'] == 'Rio Crespo'].groupby('munResNome')"
   ]
  },
  {
   "cell_type": "code",
   "execution_count": 19,
   "metadata": {
    "colab": {
     "base_uri": "https://localhost:8080/",
     "height": 143
    },
    "id": "xl2cAJx0PwwB",
    "outputId": "c5462171-13ed-447e-dea2-4fab01eff66f"
   },
   "outputs": [
    {
     "data": {
      "text/html": [
       "<div>\n",
       "<style scoped>\n",
       "    .dataframe tbody tr th:only-of-type {\n",
       "        vertical-align: middle;\n",
       "    }\n",
       "\n",
       "    .dataframe tbody tr th {\n",
       "        vertical-align: top;\n",
       "    }\n",
       "\n",
       "    .dataframe thead tr th {\n",
       "        text-align: left;\n",
       "    }\n",
       "\n",
       "    .dataframe thead tr:last-of-type th {\n",
       "        text-align: right;\n",
       "    }\n",
       "</style>\n",
       "<table border=\"1\" class=\"dataframe\">\n",
       "  <thead>\n",
       "    <tr>\n",
       "      <th></th>\n",
       "      <th colspan=\"3\" halign=\"left\">IDADEMAE</th>\n",
       "      <th colspan=\"3\" halign=\"left\">IDADEPAI</th>\n",
       "    </tr>\n",
       "    <tr>\n",
       "      <th></th>\n",
       "      <th>mean</th>\n",
       "      <th>min</th>\n",
       "      <th>max</th>\n",
       "      <th>mean</th>\n",
       "      <th>min</th>\n",
       "      <th>max</th>\n",
       "    </tr>\n",
       "    <tr>\n",
       "      <th>munResNome</th>\n",
       "      <th></th>\n",
       "      <th></th>\n",
       "      <th></th>\n",
       "      <th></th>\n",
       "      <th></th>\n",
       "      <th></th>\n",
       "    </tr>\n",
       "  </thead>\n",
       "  <tbody>\n",
       "    <tr>\n",
       "      <th>Rio Crespo</th>\n",
       "      <td>26.0</td>\n",
       "      <td>26</td>\n",
       "      <td>26</td>\n",
       "      <td>28.0</td>\n",
       "      <td>28.0</td>\n",
       "      <td>28.0</td>\n",
       "    </tr>\n",
       "  </tbody>\n",
       "</table>\n",
       "</div>"
      ],
      "text/plain": [
       "           IDADEMAE         IDADEPAI            \n",
       "               mean min max     mean   min   max\n",
       "munResNome                                      \n",
       "Rio Crespo     26.0  26  26     28.0  28.0  28.0"
      ]
     },
     "execution_count": 19,
     "metadata": {},
     "output_type": "execute_result"
    }
   ],
   "source": [
    "rio_crespo.agg(['mean', 'min', 'max'])"
   ]
  },
  {
   "cell_type": "markdown",
   "metadata": {
    "id": "hf1MFWZAQnsC"
   },
   "source": [
    "Como podemos ver, por possuir apenas um registro a análise não fica interessante, por isso vou pegar o município Cujubim, o qual teve 10 nascimentos no ano de 2019:"
   ]
  },
  {
   "cell_type": "code",
   "execution_count": 20,
   "metadata": {
    "id": "v-37sShhRDP0"
   },
   "outputs": [],
   "source": [
    "cujubim = sinasc_a[sinasc_a['munResNome'] == 'Cujubim'].groupby('munResNome')"
   ]
  },
  {
   "cell_type": "code",
   "execution_count": 21,
   "metadata": {
    "colab": {
     "base_uri": "https://localhost:8080/",
     "height": 143
    },
    "id": "2k-NK6Q4RG8z",
    "outputId": "f2e27c9f-6bb7-467b-d504-3b985324f50c"
   },
   "outputs": [
    {
     "data": {
      "text/html": [
       "<div>\n",
       "<style scoped>\n",
       "    .dataframe tbody tr th:only-of-type {\n",
       "        vertical-align: middle;\n",
       "    }\n",
       "\n",
       "    .dataframe tbody tr th {\n",
       "        vertical-align: top;\n",
       "    }\n",
       "\n",
       "    .dataframe thead tr th {\n",
       "        text-align: left;\n",
       "    }\n",
       "\n",
       "    .dataframe thead tr:last-of-type th {\n",
       "        text-align: right;\n",
       "    }\n",
       "</style>\n",
       "<table border=\"1\" class=\"dataframe\">\n",
       "  <thead>\n",
       "    <tr>\n",
       "      <th></th>\n",
       "      <th colspan=\"3\" halign=\"left\">IDADEMAE</th>\n",
       "      <th colspan=\"3\" halign=\"left\">IDADEPAI</th>\n",
       "    </tr>\n",
       "    <tr>\n",
       "      <th></th>\n",
       "      <th>mean</th>\n",
       "      <th>min</th>\n",
       "      <th>max</th>\n",
       "      <th>mean</th>\n",
       "      <th>min</th>\n",
       "      <th>max</th>\n",
       "    </tr>\n",
       "    <tr>\n",
       "      <th>munResNome</th>\n",
       "      <th></th>\n",
       "      <th></th>\n",
       "      <th></th>\n",
       "      <th></th>\n",
       "      <th></th>\n",
       "      <th></th>\n",
       "    </tr>\n",
       "  </thead>\n",
       "  <tbody>\n",
       "    <tr>\n",
       "      <th>Cujubim</th>\n",
       "      <td>27.4</td>\n",
       "      <td>17</td>\n",
       "      <td>37</td>\n",
       "      <td>31.4</td>\n",
       "      <td>19.0</td>\n",
       "      <td>44.0</td>\n",
       "    </tr>\n",
       "  </tbody>\n",
       "</table>\n",
       "</div>"
      ],
      "text/plain": [
       "           IDADEMAE         IDADEPAI            \n",
       "               mean min max     mean   min   max\n",
       "munResNome                                      \n",
       "Cujubim        27.4  17  37     31.4  19.0  44.0"
      ]
     },
     "execution_count": 21,
     "metadata": {},
     "output_type": "execute_result"
    }
   ],
   "source": [
    "cujubim.agg(['mean', 'min', 'max'])"
   ]
  },
  {
   "cell_type": "markdown",
   "metadata": {
    "id": "qasSlOYwRJlo"
   },
   "source": [
    "Assim podemos ver algumas diferenças notáveis, como por exemplo a diferença miníma ser menor do que a diferença máxima (2 e 7 anos respectivamente)."
   ]
  },
  {
   "cell_type": "markdown",
   "metadata": {
    "id": "9nABB1jqIXFa"
   },
   "source": [
    "### 4. Qual o municipio que nasceu mais bebe no mês de março?\n",
    "    - qual a quantidade de filhos vivos media, maxima, minima nesse municipio?\n",
    "    - qual a idade media, maxima, minima dos pais nesse municipio?\n",
    "\n"
   ]
  },
  {
   "cell_type": "markdown",
   "metadata": {
    "id": "k3LFHCh4XhPS"
   },
   "source": [
    "Com a célula de códigos abaixo criei outro DataFrame e adicionei uma variável com o mês de nascimento, sendo `1 = janeiro` e ``12 = dezembro``."
   ]
  },
  {
   "cell_type": "code",
   "execution_count": 22,
   "metadata": {
    "colab": {
     "base_uri": "https://localhost:8080/"
    },
    "id": "Q93v0kN2WGgA",
    "outputId": "d4d2b1b1-9962-4008-8d38-3c4a8fb116f9"
   },
   "outputs": [
    {
     "data": {
      "text/plain": [
       "3     2456\n",
       "4     2373\n",
       "5     2365\n",
       "9     2357\n",
       "10    2270\n",
       "1     2263\n",
       "8     2199\n",
       "6     2176\n",
       "7     2160\n",
       "11    2148\n",
       "12    2136\n",
       "2     2125\n",
       "Name: MESNASC, dtype: int64"
      ]
     },
     "execution_count": 22,
     "metadata": {},
     "output_type": "execute_result"
    }
   ],
   "source": [
    "sinasc_mes = sinasc_raw.copy()\n",
    "sinasc_mes.loc[:,'DTNASC'] = pd.to_datetime(sinasc_raw['DTNASC'])\n",
    "sinasc_mes.set_index('DTNASC', inplace=True)\n",
    "sinasc_mes['MESNASC'] = sinasc_mes.index.month\n",
    "sinasc_mes['MESNASC'].value_counts()"
   ]
  },
  {
   "cell_type": "markdown",
   "metadata": {
    "id": "gYDYdb4kY3kw"
   },
   "source": [
    "O munícipio com mais nascimentos no mês de março foi Porto Velho."
   ]
  },
  {
   "cell_type": "code",
   "execution_count": 23,
   "metadata": {
    "colab": {
     "base_uri": "https://localhost:8080/"
    },
    "id": "ScJ1m2yBXwo5",
    "outputId": "a8de961c-9717-40c4-d385-97ad24ce81ea"
   },
   "outputs": [
    {
     "data": {
      "text/plain": [
       "Porto Velho                  744\n",
       "Ji-Paraná                    188\n",
       "Vilhena                      148\n",
       "Ariquemes                    141\n",
       "Cacoal                       133\n",
       "Jaru                          80\n",
       "Guajará-Mirim                 75\n",
       "Rolim de Moura                69\n",
       "Ouro Preto do Oeste           67\n",
       "Pimenta Bueno                 62\n",
       "Buritis                       59\n",
       "Nova Mamoré                   53\n",
       "Machadinho D'Oeste            44\n",
       "Espigão D'Oeste               44\n",
       "São Miguel do Guaporé         41\n",
       "Candeias do Jamari            33\n",
       "São Francisco do Guaporé      31\n",
       "Alta Floresta D'Oeste         31\n",
       "Presidente Médici             29\n",
       "Costa Marques                 24\n",
       "Alto Paraíso                  22\n",
       "Alvorada D'Oeste              22\n",
       "Monte Negro                   20\n",
       "Nova Brasilândia D'Oeste      20\n",
       "Seringueiras                  19\n",
       "Colorado do Oeste             19\n",
       "Chupinguaia                   18\n",
       "Cujubim                       17\n",
       "Cerejeiras                    16\n",
       "Urupá                         14\n",
       "Vale do Paraíso               13\n",
       "Campo Novo de Rondônia        13\n",
       "Corumbiara                    12\n",
       "Vale do Anari                 11\n",
       "Governador Jorge Teixeira     10\n",
       "Alto Alegre dos Parecis       10\n",
       "Cacaulândia                   10\n",
       "Mirante da Serra               9\n",
       "Rio Crespo                     9\n",
       "Theobroma                      8\n",
       "Itapuã do Oeste                8\n",
       "Santa Luzia D'Oeste            7\n",
       "Nova União                     7\n",
       "Pimenteiras do Oeste           6\n",
       "Cabixi                         6\n",
       "Parecis                        6\n",
       "Ministro Andreazza             6\n",
       "Primavera de Rondônia          5\n",
       "Novo Horizonte do Oeste        5\n",
       "São Felipe D'Oeste             5\n",
       "Castanheiras                   4\n",
       "Teixeirópolis                  3\n",
       "Name: munResNome, dtype: int64"
      ]
     },
     "execution_count": 23,
     "metadata": {},
     "output_type": "execute_result"
    }
   ],
   "source": [
    "sinasc_março = sinasc_mes.loc[sinasc_mes['MESNASC'] == 3]\n",
    "sinasc_março.munResNome.value_counts()"
   ]
  },
  {
   "cell_type": "code",
   "execution_count": 24,
   "metadata": {
    "id": "YuNgNWDoYRZf"
   },
   "outputs": [],
   "source": [
    "porto_velho = sinasc_março[sinasc_março['munResNome'] == 'Porto Velho'].groupby('munResNome')"
   ]
  },
  {
   "cell_type": "code",
   "execution_count": 25,
   "metadata": {
    "colab": {
     "base_uri": "https://localhost:8080/",
     "height": 112
    },
    "id": "VynjEOzpZF6T",
    "outputId": "b83940dd-a8a7-44ed-e54e-3059a55cd168"
   },
   "outputs": [
    {
     "data": {
      "text/html": [
       "<div>\n",
       "<style scoped>\n",
       "    .dataframe tbody tr th:only-of-type {\n",
       "        vertical-align: middle;\n",
       "    }\n",
       "\n",
       "    .dataframe tbody tr th {\n",
       "        vertical-align: top;\n",
       "    }\n",
       "\n",
       "    .dataframe thead th {\n",
       "        text-align: right;\n",
       "    }\n",
       "</style>\n",
       "<table border=\"1\" class=\"dataframe\">\n",
       "  <thead>\n",
       "    <tr style=\"text-align: right;\">\n",
       "      <th></th>\n",
       "      <th>mean</th>\n",
       "      <th>max</th>\n",
       "      <th>min</th>\n",
       "    </tr>\n",
       "    <tr>\n",
       "      <th>munResNome</th>\n",
       "      <th></th>\n",
       "      <th></th>\n",
       "      <th></th>\n",
       "    </tr>\n",
       "  </thead>\n",
       "  <tbody>\n",
       "    <tr>\n",
       "      <th>Porto Velho</th>\n",
       "      <td>1.295056</td>\n",
       "      <td>9.0</td>\n",
       "      <td>0.0</td>\n",
       "    </tr>\n",
       "  </tbody>\n",
       "</table>\n",
       "</div>"
      ],
      "text/plain": [
       "                 mean  max  min\n",
       "munResNome                     \n",
       "Porto Velho  1.295056  9.0  0.0"
      ]
     },
     "execution_count": 25,
     "metadata": {},
     "output_type": "execute_result"
    }
   ],
   "source": [
    "porto_velho['QTDFILVIVO'].agg(['mean', 'max', 'min'])"
   ]
  },
  {
   "cell_type": "code",
   "execution_count": 26,
   "metadata": {
    "colab": {
     "base_uri": "https://localhost:8080/",
     "height": 112
    },
    "id": "4vw1U-71ZjQx",
    "outputId": "c7cf01f3-90d6-4cab-e393-2163d8e1917a"
   },
   "outputs": [
    {
     "data": {
      "text/html": [
       "<div>\n",
       "<style scoped>\n",
       "    .dataframe tbody tr th:only-of-type {\n",
       "        vertical-align: middle;\n",
       "    }\n",
       "\n",
       "    .dataframe tbody tr th {\n",
       "        vertical-align: top;\n",
       "    }\n",
       "\n",
       "    .dataframe thead th {\n",
       "        text-align: right;\n",
       "    }\n",
       "</style>\n",
       "<table border=\"1\" class=\"dataframe\">\n",
       "  <thead>\n",
       "    <tr style=\"text-align: right;\">\n",
       "      <th></th>\n",
       "      <th>mean</th>\n",
       "      <th>max</th>\n",
       "      <th>min</th>\n",
       "    </tr>\n",
       "    <tr>\n",
       "      <th>munResNome</th>\n",
       "      <th></th>\n",
       "      <th></th>\n",
       "      <th></th>\n",
       "    </tr>\n",
       "  </thead>\n",
       "  <tbody>\n",
       "    <tr>\n",
       "      <th>Porto Velho</th>\n",
       "      <td>34.629032</td>\n",
       "      <td>62.0</td>\n",
       "      <td>19.0</td>\n",
       "    </tr>\n",
       "  </tbody>\n",
       "</table>\n",
       "</div>"
      ],
      "text/plain": [
       "                  mean   max   min\n",
       "munResNome                        \n",
       "Porto Velho  34.629032  62.0  19.0"
      ]
     },
     "execution_count": 26,
     "metadata": {},
     "output_type": "execute_result"
    }
   ],
   "source": [
    "porto_velho['IDADEPAI'].agg(['mean', 'max', 'min'])"
   ]
  },
  {
   "cell_type": "markdown",
   "metadata": {
    "id": "bEMXfLkdIXFa"
   },
   "source": [
    "### Analise as respostas encontradas, tire algum insight delas, conte pra gente algo encontrado nos dados. Algo que você julgue relevante e novo pra você."
   ]
  },
  {
   "cell_type": "markdown",
   "metadata": {
    "id": "vo_irHXBIXFa"
   },
   "source": [
    "Exemplo:\n",
    "- Ah, descobri que a idade mediana das mulheres que deram a luz no ano de 2019 dos municipios x é maior que y."
   ]
  },
  {
   "cell_type": "code",
   "execution_count": 27,
   "metadata": {
    "colab": {
     "base_uri": "https://localhost:8080/"
    },
    "id": "LFyfmSewIXFa",
    "outputId": "6a83498a-4a6d-4f1b-9f67-48f46b57ffbd"
   },
   "outputs": [
    {
     "data": {
      "text/plain": [
       "ORIGEM          int64\n",
       "CODESTAB      float64\n",
       "CODMUNNASC      int64\n",
       "LOCNASC         int64\n",
       "IDADEMAE        int64\n",
       "               ...   \n",
       "munResUf       object\n",
       "munResLat     float64\n",
       "munResLon     float64\n",
       "munResAlt     float64\n",
       "munResArea    float64\n",
       "Length: 69, dtype: object"
      ]
     },
     "execution_count": 27,
     "metadata": {},
     "output_type": "execute_result"
    }
   ],
   "source": [
    "sinasc_raw.dtypes"
   ]
  },
  {
   "cell_type": "code",
   "execution_count": 28,
   "metadata": {
    "colab": {
     "base_uri": "https://localhost:8080/",
     "height": 748
    },
    "id": "FM963PN-IXFa",
    "outputId": "fbf948cc-cb27-49e5-b127-41adb9708013"
   },
   "outputs": [
    {
     "data": {
      "text/html": [
       "<div>\n",
       "<style scoped>\n",
       "    .dataframe tbody tr th:only-of-type {\n",
       "        vertical-align: middle;\n",
       "    }\n",
       "\n",
       "    .dataframe tbody tr th {\n",
       "        vertical-align: top;\n",
       "    }\n",
       "\n",
       "    .dataframe thead th {\n",
       "        text-align: right;\n",
       "    }\n",
       "</style>\n",
       "<table border=\"1\" class=\"dataframe\">\n",
       "  <thead>\n",
       "    <tr style=\"text-align: right;\">\n",
       "      <th></th>\n",
       "      <th>ESCMAE</th>\n",
       "      <th>GESTACAO</th>\n",
       "      <th>GRAVIDEZ</th>\n",
       "      <th>PARTO</th>\n",
       "      <th>DTNASC</th>\n",
       "      <th>SEXO</th>\n",
       "      <th>RACACOR</th>\n",
       "      <th>DTCADASTRO</th>\n",
       "      <th>CODANOMAL</th>\n",
       "      <th>VERSAOSIST</th>\n",
       "      <th>DTRECEBIM</th>\n",
       "      <th>munResStatus</th>\n",
       "      <th>munResTipo</th>\n",
       "      <th>munResNome</th>\n",
       "      <th>munResUf</th>\n",
       "    </tr>\n",
       "  </thead>\n",
       "  <tbody>\n",
       "    <tr>\n",
       "      <th>0</th>\n",
       "      <td>8 a 11 anos</td>\n",
       "      <td>37 a 41 semanas</td>\n",
       "      <td>Única</td>\n",
       "      <td>Cesáreo</td>\n",
       "      <td>2019-02-19</td>\n",
       "      <td>Masculino</td>\n",
       "      <td>Branca</td>\n",
       "      <td>2019-03-08</td>\n",
       "      <td>NaN</td>\n",
       "      <td>3.2.01</td>\n",
       "      <td>2019-03-08</td>\n",
       "      <td>ATIVO</td>\n",
       "      <td>MUNIC</td>\n",
       "      <td>Alta Floresta D'Oeste</td>\n",
       "      <td>Rondônia</td>\n",
       "    </tr>\n",
       "    <tr>\n",
       "      <th>1</th>\n",
       "      <td>8 a 11 anos</td>\n",
       "      <td>37 a 41 semanas</td>\n",
       "      <td>Única</td>\n",
       "      <td>Cesáreo</td>\n",
       "      <td>2019-02-21</td>\n",
       "      <td>Feminino</td>\n",
       "      <td>Branca</td>\n",
       "      <td>2019-03-08</td>\n",
       "      <td>NaN</td>\n",
       "      <td>3.2.01</td>\n",
       "      <td>2019-03-08</td>\n",
       "      <td>ATIVO</td>\n",
       "      <td>MUNIC</td>\n",
       "      <td>Alta Floresta D'Oeste</td>\n",
       "      <td>Rondônia</td>\n",
       "    </tr>\n",
       "    <tr>\n",
       "      <th>2</th>\n",
       "      <td>8 a 11 anos</td>\n",
       "      <td>37 a 41 semanas</td>\n",
       "      <td>Única</td>\n",
       "      <td>Cesáreo</td>\n",
       "      <td>2019-02-25</td>\n",
       "      <td>Feminino</td>\n",
       "      <td>Branca</td>\n",
       "      <td>2019-03-08</td>\n",
       "      <td>NaN</td>\n",
       "      <td>3.2.01</td>\n",
       "      <td>2019-03-08</td>\n",
       "      <td>ATIVO</td>\n",
       "      <td>MUNIC</td>\n",
       "      <td>Alta Floresta D'Oeste</td>\n",
       "      <td>Rondônia</td>\n",
       "    </tr>\n",
       "    <tr>\n",
       "      <th>3</th>\n",
       "      <td>12 anos ou mais</td>\n",
       "      <td>37 a 41 semanas</td>\n",
       "      <td>Única</td>\n",
       "      <td>Cesáreo</td>\n",
       "      <td>2019-03-20</td>\n",
       "      <td>Feminino</td>\n",
       "      <td>Parda</td>\n",
       "      <td>2019-04-03</td>\n",
       "      <td>NaN</td>\n",
       "      <td>3.2.01</td>\n",
       "      <td>2019-04-09</td>\n",
       "      <td>ATIVO</td>\n",
       "      <td>MUNIC</td>\n",
       "      <td>Alto Alegre dos Parecis</td>\n",
       "      <td>Rondônia</td>\n",
       "    </tr>\n",
       "    <tr>\n",
       "      <th>4</th>\n",
       "      <td>8 a 11 anos</td>\n",
       "      <td>37 a 41 semanas</td>\n",
       "      <td>Única</td>\n",
       "      <td>Cesáreo</td>\n",
       "      <td>2019-03-23</td>\n",
       "      <td>Feminino</td>\n",
       "      <td>Parda</td>\n",
       "      <td>2019-04-03</td>\n",
       "      <td>NaN</td>\n",
       "      <td>3.2.01</td>\n",
       "      <td>2019-04-09</td>\n",
       "      <td>ATIVO</td>\n",
       "      <td>MUNIC</td>\n",
       "      <td>Alta Floresta D'Oeste</td>\n",
       "      <td>Rondônia</td>\n",
       "    </tr>\n",
       "    <tr>\n",
       "      <th>...</th>\n",
       "      <td>...</td>\n",
       "      <td>...</td>\n",
       "      <td>...</td>\n",
       "      <td>...</td>\n",
       "      <td>...</td>\n",
       "      <td>...</td>\n",
       "      <td>...</td>\n",
       "      <td>...</td>\n",
       "      <td>...</td>\n",
       "      <td>...</td>\n",
       "      <td>...</td>\n",
       "      <td>...</td>\n",
       "      <td>...</td>\n",
       "      <td>...</td>\n",
       "      <td>...</td>\n",
       "    </tr>\n",
       "    <tr>\n",
       "      <th>27023</th>\n",
       "      <td>12 anos ou mais</td>\n",
       "      <td>32 a 36 semanas</td>\n",
       "      <td>Única</td>\n",
       "      <td>Cesáreo</td>\n",
       "      <td>2019-12-13</td>\n",
       "      <td>Masculino</td>\n",
       "      <td>Branca</td>\n",
       "      <td>2020-09-28</td>\n",
       "      <td>NaN</td>\n",
       "      <td>3.2.01</td>\n",
       "      <td>2020-10-13</td>\n",
       "      <td>ATIVO</td>\n",
       "      <td>MUNIC</td>\n",
       "      <td>Vilhena</td>\n",
       "      <td>Rondônia</td>\n",
       "    </tr>\n",
       "    <tr>\n",
       "      <th>27024</th>\n",
       "      <td>8 a 11 anos</td>\n",
       "      <td>37 a 41 semanas</td>\n",
       "      <td>Única</td>\n",
       "      <td>Vaginal</td>\n",
       "      <td>2019-10-04</td>\n",
       "      <td>Masculino</td>\n",
       "      <td>Branca</td>\n",
       "      <td>2019-10-16</td>\n",
       "      <td>NaN</td>\n",
       "      <td>3.2.01</td>\n",
       "      <td>2019-10-21</td>\n",
       "      <td>ATIVO</td>\n",
       "      <td>MUNIC</td>\n",
       "      <td>Chupinguaia</td>\n",
       "      <td>Rondônia</td>\n",
       "    </tr>\n",
       "    <tr>\n",
       "      <th>27025</th>\n",
       "      <td>8 a 11 anos</td>\n",
       "      <td>37 a 41 semanas</td>\n",
       "      <td>Única</td>\n",
       "      <td>Cesáreo</td>\n",
       "      <td>2019-08-02</td>\n",
       "      <td>Masculino</td>\n",
       "      <td>Parda</td>\n",
       "      <td>2019-08-07</td>\n",
       "      <td>NaN</td>\n",
       "      <td>3.2.00</td>\n",
       "      <td>2019-08-07</td>\n",
       "      <td>ATIVO</td>\n",
       "      <td>MUNIC</td>\n",
       "      <td>Vilhena</td>\n",
       "      <td>Rondônia</td>\n",
       "    </tr>\n",
       "    <tr>\n",
       "      <th>27026</th>\n",
       "      <td>8 a 11 anos</td>\n",
       "      <td>32 a 36 semanas</td>\n",
       "      <td>Única</td>\n",
       "      <td>Vaginal</td>\n",
       "      <td>2019-12-23</td>\n",
       "      <td>Masculino</td>\n",
       "      <td>Parda</td>\n",
       "      <td>2020-01-07</td>\n",
       "      <td>NaN</td>\n",
       "      <td>3.2.00</td>\n",
       "      <td>2020-01-07</td>\n",
       "      <td>ATIVO</td>\n",
       "      <td>MUNIC</td>\n",
       "      <td>Vilhena</td>\n",
       "      <td>Rondônia</td>\n",
       "    </tr>\n",
       "    <tr>\n",
       "      <th>27027</th>\n",
       "      <td>8 a 11 anos</td>\n",
       "      <td>37 a 41 semanas</td>\n",
       "      <td>Única</td>\n",
       "      <td>Cesáreo</td>\n",
       "      <td>2019-12-27</td>\n",
       "      <td>Masculino</td>\n",
       "      <td>Parda</td>\n",
       "      <td>2020-10-15</td>\n",
       "      <td>NaN</td>\n",
       "      <td>3.2.01</td>\n",
       "      <td>2020-10-16</td>\n",
       "      <td>ATIVO</td>\n",
       "      <td>MUNIC</td>\n",
       "      <td>Novo Horizonte do Oeste</td>\n",
       "      <td>Rondônia</td>\n",
       "    </tr>\n",
       "  </tbody>\n",
       "</table>\n",
       "<p>27028 rows × 15 columns</p>\n",
       "</div>"
      ],
      "text/plain": [
       "                ESCMAE         GESTACAO GRAVIDEZ    PARTO      DTNASC  \\\n",
       "0          8 a 11 anos  37 a 41 semanas    Única  Cesáreo  2019-02-19   \n",
       "1          8 a 11 anos  37 a 41 semanas    Única  Cesáreo  2019-02-21   \n",
       "2          8 a 11 anos  37 a 41 semanas    Única  Cesáreo  2019-02-25   \n",
       "3      12 anos ou mais  37 a 41 semanas    Única  Cesáreo  2019-03-20   \n",
       "4          8 a 11 anos  37 a 41 semanas    Única  Cesáreo  2019-03-23   \n",
       "...                ...              ...      ...      ...         ...   \n",
       "27023  12 anos ou mais  32 a 36 semanas    Única  Cesáreo  2019-12-13   \n",
       "27024      8 a 11 anos  37 a 41 semanas    Única  Vaginal  2019-10-04   \n",
       "27025      8 a 11 anos  37 a 41 semanas    Única  Cesáreo  2019-08-02   \n",
       "27026      8 a 11 anos  32 a 36 semanas    Única  Vaginal  2019-12-23   \n",
       "27027      8 a 11 anos  37 a 41 semanas    Única  Cesáreo  2019-12-27   \n",
       "\n",
       "            SEXO RACACOR  DTCADASTRO CODANOMAL VERSAOSIST   DTRECEBIM  \\\n",
       "0      Masculino  Branca  2019-03-08       NaN     3.2.01  2019-03-08   \n",
       "1       Feminino  Branca  2019-03-08       NaN     3.2.01  2019-03-08   \n",
       "2       Feminino  Branca  2019-03-08       NaN     3.2.01  2019-03-08   \n",
       "3       Feminino   Parda  2019-04-03       NaN     3.2.01  2019-04-09   \n",
       "4       Feminino   Parda  2019-04-03       NaN     3.2.01  2019-04-09   \n",
       "...          ...     ...         ...       ...        ...         ...   \n",
       "27023  Masculino  Branca  2020-09-28       NaN     3.2.01  2020-10-13   \n",
       "27024  Masculino  Branca  2019-10-16       NaN     3.2.01  2019-10-21   \n",
       "27025  Masculino   Parda  2019-08-07       NaN     3.2.00  2019-08-07   \n",
       "27026  Masculino   Parda  2020-01-07       NaN     3.2.00  2020-01-07   \n",
       "27027  Masculino   Parda  2020-10-15       NaN     3.2.01  2020-10-16   \n",
       "\n",
       "      munResStatus munResTipo               munResNome  munResUf  \n",
       "0            ATIVO      MUNIC    Alta Floresta D'Oeste  Rondônia  \n",
       "1            ATIVO      MUNIC    Alta Floresta D'Oeste  Rondônia  \n",
       "2            ATIVO      MUNIC    Alta Floresta D'Oeste  Rondônia  \n",
       "3            ATIVO      MUNIC  Alto Alegre dos Parecis  Rondônia  \n",
       "4            ATIVO      MUNIC    Alta Floresta D'Oeste  Rondônia  \n",
       "...            ...        ...                      ...       ...  \n",
       "27023        ATIVO      MUNIC                  Vilhena  Rondônia  \n",
       "27024        ATIVO      MUNIC              Chupinguaia  Rondônia  \n",
       "27025        ATIVO      MUNIC                  Vilhena  Rondônia  \n",
       "27026        ATIVO      MUNIC                  Vilhena  Rondônia  \n",
       "27027        ATIVO      MUNIC  Novo Horizonte do Oeste  Rondônia  \n",
       "\n",
       "[27028 rows x 15 columns]"
      ]
     },
     "execution_count": 28,
     "metadata": {},
     "output_type": "execute_result"
    }
   ],
   "source": [
    "sinasc_raw.select_dtypes(exclude=['int64','float64'])"
   ]
  },
  {
   "cell_type": "code",
   "execution_count": 29,
   "metadata": {
    "colab": {
     "base_uri": "https://localhost:8080/"
    },
    "id": "Z4J0zb2mIXFa",
    "outputId": "1a8691e4-67ae-4bde-c96c-72b991ac4f51"
   },
   "outputs": [
    {
     "data": {
      "text/plain": [
       "Index(['ORIGEM', 'CODESTAB', 'CODMUNNASC', 'LOCNASC', 'IDADEMAE', 'ESTCIVMAE',\n",
       "       'ESCMAE', 'CODOCUPMAE', 'QTDFILVIVO', 'QTDFILMORT', 'CODMUNRES',\n",
       "       'GESTACAO', 'GRAVIDEZ', 'PARTO', 'CONSULTAS', 'DTNASC', 'HORANASC',\n",
       "       'SEXO', 'APGAR1', 'APGAR5', 'RACACOR', 'PESO', 'IDANOMAL', 'DTCADASTRO',\n",
       "       'CODANOMAL', 'NUMEROLOTE', 'VERSAOSIST', 'DTRECEBIM', 'DIFDATA',\n",
       "       'DTRECORIGA', 'NATURALMAE', 'CODMUNNATU', 'CODUFNATU', 'ESCMAE2010',\n",
       "       'SERIESCMAE', 'DTNASCMAE', 'RACACORMAE', 'QTDGESTANT', 'QTDPARTNOR',\n",
       "       'QTDPARTCES', 'IDADEPAI', 'DTULTMENST', 'SEMAGESTAC', 'TPMETESTIM',\n",
       "       'CONSPRENAT', 'MESPRENAT', 'TPAPRESENT', 'STTRABPART', 'STCESPARTO',\n",
       "       'TPNASCASSI', 'TPFUNCRESP', 'TPDOCRESP', 'DTDECLARAC', 'ESCMAEAGR1',\n",
       "       'STDNEPIDEM', 'STDNNOVA', 'CODPAISRES', 'TPROBSON', 'PARIDADE',\n",
       "       'KOTELCHUCK', 'CONTADOR', 'munResStatus', 'munResTipo', 'munResNome',\n",
       "       'munResUf', 'munResLat', 'munResLon', 'munResAlt', 'munResArea'],\n",
       "      dtype='object')"
      ]
     },
     "execution_count": 29,
     "metadata": {},
     "output_type": "execute_result"
    }
   ],
   "source": [
    "sinasc_raw.columns"
   ]
  },
  {
   "cell_type": "markdown",
   "metadata": {
    "id": "UfLvu5FkbQ6t"
   },
   "source": [
    "### Analisando as variáveis achei interessante ver se tem alguma relação entre o tempo de gestação e a maneira em como foi o parto (`cesáreo` ou `vaginal`). Mais afundo, tentei ver a relação que as variáveis `IDADEMAE` e `PESO` podem ter com o fato de um nascimento prematuro."
   ]
  },
  {
   "cell_type": "markdown",
   "metadata": {
    "id": "IyUPS5sUeMe9"
   },
   "source": [
    "Comecei criando um novo DataFrame e removendo os dados faltantes."
   ]
  },
  {
   "cell_type": "code",
   "execution_count": 30,
   "metadata": {
    "colab": {
     "base_uri": "https://localhost:8080/"
    },
    "id": "x1HM1-XnJmX0",
    "outputId": "ac345d9b-622e-4e3d-aed8-ffedb5db731e"
   },
   "outputs": [
    {
     "data": {
      "text/plain": [
       "IDADEMAE       0\n",
       "GESTACAO    1232\n",
       "PARTO         49\n",
       "PESO           0\n",
       "dtype: int64"
      ]
     },
     "execution_count": 30,
     "metadata": {},
     "output_type": "execute_result"
    }
   ],
   "source": [
    "sinasc_d = sinasc_raw[['IDADEMAE' ,'GESTACAO', 'PARTO', 'PESO']]\n",
    "sinasc_d.isna().sum()"
   ]
  },
  {
   "cell_type": "code",
   "execution_count": 31,
   "metadata": {
    "colab": {
     "base_uri": "https://localhost:8080/"
    },
    "id": "7IPT5XEkLHkK",
    "outputId": "b0f34797-8a3a-4701-b0a4-f289dc9f22e2"
   },
   "outputs": [
    {
     "data": {
      "text/plain": [
       "(25758, 4)"
      ]
     },
     "execution_count": 31,
     "metadata": {},
     "output_type": "execute_result"
    }
   ],
   "source": [
    "sinasc_d = sinasc_d.dropna()\n",
    "sinasc_d.shape"
   ]
  },
  {
   "cell_type": "markdown",
   "metadata": {
    "id": "3TpEkBqfegXj"
   },
   "source": [
    "Resolvi criar uma nova variável, onde indica se o bebê nasceu prematuramente. Um bebê é considerado prematudo quando nasceu antes de 37 semanas de gestação. "
   ]
  },
  {
   "cell_type": "code",
   "execution_count": 32,
   "metadata": {
    "id": "IdBbfYzTLUDx"
   },
   "outputs": [],
   "source": [
    "prematuro = ['Menos de 22 semanas', '22 a 27 semanas', '28 a 31 semanas', '32 a 36 semanas']\n",
    "nao_prematuro = ['42 semanas e mais', '37 a 41 semanas']"
   ]
  },
  {
   "cell_type": "markdown",
   "metadata": {
    "id": "l-FLbrmefQ4c"
   },
   "source": [
    "Com os loops abaixo foi definida a nova variável, `PREMATUDO`, onde `y` representa que o nascimento foi prematuro, e `n` não."
   ]
  },
  {
   "cell_type": "code",
   "execution_count": 33,
   "metadata": {
    "id": "kcLjogjZSYkd"
   },
   "outputs": [],
   "source": [
    "for i in prematuro:\n",
    "    sinasc_d.loc[sinasc_d['GESTACAO'] == (i), 'PREMATURO'] = 'y'\n",
    "\n",
    "for i in nao_prematuro:\n",
    "    sinasc_d.loc[sinasc_d['GESTACAO'] == (i), 'PREMATURO'] = 'n'    "
   ]
  },
  {
   "cell_type": "markdown",
   "metadata": {
    "id": "0aw_79F3jSKe"
   },
   "source": [
    "Apenas analisando a média do peso entre prematuros ou não notamos uma diferença mepdia de cerca de 800 gramas, uma diferença considerável."
   ]
  },
  {
   "cell_type": "code",
   "execution_count": 34,
   "metadata": {
    "colab": {
     "base_uri": "https://localhost:8080/"
    },
    "id": "woxzy_A8To5X",
    "outputId": "52dc4247-47e5-4324-db01-7de045454322"
   },
   "outputs": [
    {
     "data": {
      "text/plain": [
       "PREMATURO\n",
       "n    3316.643075\n",
       "y    2580.621751\n",
       "Name: PESO, dtype: float64"
      ]
     },
     "execution_count": 34,
     "metadata": {},
     "output_type": "execute_result"
    }
   ],
   "source": [
    "sinasc_d.groupby('PREMATURO')['PESO'].mean()"
   ]
  },
  {
   "cell_type": "markdown",
   "metadata": {
    "id": "0m6iDbbxjoL1"
   },
   "source": [
    "Já analisando a relação entre prematuros e o tipo de parto, não vemos muita diferença."
   ]
  },
  {
   "cell_type": "code",
   "execution_count": 38,
   "metadata": {
    "colab": {
     "base_uri": "https://localhost:8080/",
     "height": 293
    },
    "id": "wU8ems0KcvxV",
    "outputId": "cafecc1c-90f4-4f2d-8385-1a1e16e1e8f1"
   },
   "outputs": [
    {
     "data": {
      "text/plain": [
       "<AxesSubplot:xlabel='PREMATURO'>"
      ]
     },
     "execution_count": 38,
     "metadata": {},
     "output_type": "execute_result"
    },
    {
     "data": {
      "image/png": "[encoded data removed]",
      "text/plain": [
       "<Figure size 432x288 with 1 Axes>"
      ]
     },
     "metadata": {
      "needs_background": "light"
     },
     "output_type": "display_data"
    }
   ],
   "source": [
    "(pd.crosstab(sinasc_d['PREMATURO'], sinasc_d['PARTO'],\n",
    "             normalize='index')\n",
    ".plot.bar(stacked=True))"
   ]
  },
  {
   "cell_type": "markdown",
   "metadata": {
    "id": "p0Tc4LxPkqSE"
   },
   "source": [
    "Comparando o peso com prematuros ou não, vemos abaixo uma diferença gráfica notável que se repete como antes. Também se repete essa diferença quase nula entre os tipos de parto (Cesáreo e Vaginal)"
   ]
  },
  {
   "cell_type": "code",
   "execution_count": 39,
   "metadata": {
    "colab": {
     "base_uri": "https://localhost:8080/",
     "height": 300
    },
    "id": "QwZtymMSMogK",
    "outputId": "239ee346-ca33-401c-ee0a-9aa83be8a5f1"
   },
   "outputs": [
    {
     "data": {
      "text/plain": [
       "<AxesSubplot:xlabel='PARTO', ylabel='PESO'>"
      ]
     },
     "execution_count": 39,
     "metadata": {},
     "output_type": "execute_result"
    },
    {
     "data": {
      "image/png": "[encoded data removed]",
      "text/plain": [
       "<Figure size 432x288 with 1 Axes>"
      ]
     },
     "metadata": {
      "needs_background": "light"
     },
     "output_type": "display_data"
    }
   ],
   "source": [
    "sns.barplot(data=sinasc_d, x='PARTO', y='PESO', hue='PREMATURO')"
   ]
  },
  {
   "cell_type": "markdown",
   "metadata": {
    "id": "Smmjqc9ellbu"
   },
   "source": [
    "Pra aliar todas as variáveis, fiz esse `relplot` para análise, que segue abaixo do plot."
   ]
  },
  {
   "cell_type": "code",
   "execution_count": 40,
   "metadata": {
    "colab": {
     "base_uri": "https://localhost:8080/",
     "height": 386
    },
    "id": "4wJO3T6_WumV",
    "outputId": "4ba2ba2d-eba5-4174-e0db-31c06327b1d3"
   },
   "outputs": [
    {
     "data": {
      "text/plain": [
       "<seaborn.axisgrid.FacetGrid at 0x19c0056b880>"
      ]
     },
     "execution_count": 40,
     "metadata": {},
     "output_type": "execute_result"
    },
    {
     "data": {
      "image/png": "[encoded data removed]",
      "text/plain": [
       "<Figure size 789.875x360 with 2 Axes>"
      ]
     },
     "metadata": {
      "needs_background": "light"
     },
     "output_type": "display_data"
    }
   ],
   "source": [
    "sns.relplot(data=sinasc_d, x='IDADEMAE', y='PESO', hue='PREMATURO', col='PARTO')"
   ]
  },
  {
   "cell_type": "markdown",
   "metadata": {
    "id": "DODjuy6ZlvnN"
   },
   "source": [
    "Podemos confirmar o que já foi visto:\n",
    "- De cara vemos uma diferença notável entre os pesos de prematuros e não prematuros, sendo respectivamente representados pelas cores laranja e azul.\n",
    "- Vemos também que a diferença entre os tipos de parto é pequena, sendo na esquerda o parto com cesárea e à direita parto vaginal.\n",
    "- O último ponto, agora novo: a variável que foi pouco explorada até agora nessa pequena análise, `IDADEMAE`, se mostrou uniforme entre os tipos de parto. "
   ]
  },
  {
   "cell_type": "markdown",
   "metadata": {
    "id": "1H6FxYfWmxN-"
   },
   "source": [
    "Para concluir, confesso que achei que a idade da mãe influenciaria um pouco no tipo de parto, isso por mães muito novas ou muitos velhas puderem apresentar complicações devido ao seu corpo. Também achei que quanto menor o tempo de gestação, a probabilidade e frequência de partos com cesariana iria ser maior, porém não foi o caso. "
   ]
  }
 ],
 "metadata": {
  "colab": {
   "collapsed_sections": [
    "OLfG1QjIIXE7",
    "PyWq2zsCIXE7",
    "JJuHdlZRIXFL",
    "M0xxj_RWIXFL",
    "oAxsdppfIXFa",
    "yHqo-9XoIXFa"
   ],
   "provenance": []
  },
  "kernelspec": {
   "display_name": "Python 3 (ipykernel)",
   "language": "python",
   "name": "python3"
  },
  "language_info": {
   "codemirror_mode": {
    "name": "ipython",
    "version": 3
   },
   "file_extension": ".py",
   "mimetype": "text/x-python",
   "name": "python",
   "nbconvert_exporter": "python",
   "pygments_lexer": "ipython3",
   "version": "3.9.12"
  },
  "varInspector": {
   "cols": {
    "lenName": 16,
    "lenType": 16,
    "lenVar": 40
   },
   "kernels_config": {
    "python": {
     "delete_cmd_postfix": "",
     "delete_cmd_prefix": "del ",
     "library": "var_list.py",
     "varRefreshCmd": "print(var_dic_list())"
    },
    "r": {
     "delete_cmd_postfix": ") ",
     "delete_cmd_prefix": "rm(",
     "library": "var_list.r",
     "varRefreshCmd": "cat(var_dic_list()) "
    }
   },
   "types_to_exclude": [
    "module",
    "function",
    "builtin_function_or_method",
    "instance",
    "_Feature"
   ],
   "window_display": false
  }
 },
 "nbformat": 4,
 "nbformat_minor": 1
}
