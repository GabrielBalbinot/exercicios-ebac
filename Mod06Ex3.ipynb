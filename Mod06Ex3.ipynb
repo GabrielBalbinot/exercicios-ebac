{
  "cells": [
    {
      "cell_type": "markdown",
      "metadata": {
        "id": "1ZsbT1cBJH_c"
      },
      "source": [
        "# Módulo 6 tarefa 3\n",
        "\n",
        "#### 1) A base 'sinasc_RO_2019.csv' contém dados do sistema de nascidos vivos do DataSUS, cujo dicionário de dados está no arquivo 'Estrutura_SINASC_para_CD.pdf'. Carregue esse arquivo."
      ]
    },
    {
      "cell_type": "code",
      "execution_count": 1,
      "metadata": {
        "id": "6nIL96sLJH_5"
      },
      "outputs": [],
      "source": [
        "import pandas as pd\n",
        "import matplotlib.pyplot as plt\n",
        "import seaborn as sns"
      ]
    },
    {
      "cell_type": "code",
      "execution_count": 2,
      "metadata": {
        "id": "hPNYOOkCJIAC"
      },
      "outputs": [],
      "source": [
        "df = pd.read_csv('sinasc_RO_2019.csv')"
      ]
    },
    {
      "cell_type": "markdown",
      "metadata": {
        "id": "i-JVm9-LJIAI"
      },
      "source": [
        "#### 2) Categorize a variável APGAR5 conforme as seguintes quebras:\n",
        "\n",
        "- 0 a 3: 'asfixia grave'\n",
        "- 4 a 5: 'asfixia moderada'\n",
        "- 6 a 7: 'asfixia leve'\n",
        "- 8 a 10: 'normal'"
      ]
    },
    {
      "cell_type": "code",
      "execution_count": 3,
      "metadata": {
        "colab": {
          "base_uri": "https://localhost:8080/"
        },
        "id": "z3XSN7a-JIAM",
        "outputId": "8e109051-3589-448a-8524-05bf70d18749"
      },
      "outputs": [
        {
          "output_type": "execute_result",
          "data": {
            "text/plain": [
              "0        normal\n",
              "1        normal\n",
              "2        normal\n",
              "3        normal\n",
              "4        normal\n",
              "          ...  \n",
              "27023    normal\n",
              "27024    normal\n",
              "27025    normal\n",
              "27026    normal\n",
              "27027    normal\n",
              "Name: cat_apgar5, Length: 27028, dtype: object"
            ]
          },
          "metadata": {},
          "execution_count": 3
        }
      ],
      "source": [
        "df.loc[df['APGAR5'] >= 8, 'cat_apgar5'] = 'normal'\n",
        "df.loc[(df['APGAR5'] >= 6) & (df['APGAR5'] <= 7), 'cat_apgar5'] = 'asfixia_leve'\n",
        "df.loc[(df['APGAR5'] >= 4) & (df['APGAR5'] <= 5), 'cat_apgar5'] = 'asfixia_moderada'\n",
        "df.loc[df['APGAR5'] <= 3, 'cat_apgar5'] = 'asfixia_grave'\n",
        "df['cat_apgar5']"
      ]
    },
    {
      "cell_type": "markdown",
      "metadata": {
        "id": "a6LAmOd8JIAY"
      },
      "source": [
        "#### 3) Monte um gráfico comparando a distribuição de APGAR5 por sexo para cada grupo de tempo de gestação (GESTACAO)."
      ]
    },
    {
      "cell_type": "code",
      "source": [
        "g = sns.catplot(x='GESTACAO'\n",
        "            , y='APGAR5'\n",
        "            , hue='SEXO'\n",
        "            , kind='bar'\n",
        "            , data=df\n",
        "            , palette='Set2'\n",
        "            , ci=None\n",
        "           )\n",
        "g = plt.xticks(rotation=90)"
      ],
      "metadata": {
        "colab": {
          "base_uri": "https://localhost:8080/",
          "height": 471
        },
        "id": "uApxrtZuaYDP",
        "outputId": "bfd62dc0-8a83-45a5-a367-82b7540824ce"
      },
      "execution_count": 4,
      "outputs": [
        {
          "output_type": "display_data",
          "data": {
            "text/plain": [
              "<Figure size 446x360 with 1 Axes>"
            ],
            "image/png": "[encoded data removed]"
          },
          "metadata": {
            "needs_background": "light"
          }
        }
      ]
    },
    {
      "cell_type": "markdown",
      "metadata": {
        "id": "Ez5TKR5ZJIAn"
      },
      "source": [
        "####  4) Monte uma tabela cruzada com APGAR5 nas colunas e GESTACAO nas linhas"
      ]
    },
    {
      "cell_type": "code",
      "execution_count": 5,
      "metadata": {
        "colab": {
          "base_uri": "https://localhost:8080/",
          "height": 269
        },
        "id": "hhcgckNFJIAp",
        "outputId": "cfeeabd2-9476-4044-a283-b07027a4d51f"
      },
      "outputs": [
        {
          "output_type": "execute_result",
          "data": {
            "text/plain": [
              "APGAR5               0.0   1.0   2.0   3.0   4.0   5.0   6.0   7.0   8.0   \\\n",
              "GESTACAO                                                                    \n",
              "22 a 27 semanas         7     0     8     6     1     0     2    10    24   \n",
              "28 a 31 semanas         0     0     2     1     5     7     7    11    61   \n",
              "32 a 36 semanas         2     2     2     2     8    11    17    56   362   \n",
              "37 a 41 semanas         5    20     3     5     7    21    45   151  1417   \n",
              "42 semanas e mais       1     0     0     0     0     1     1     5    44   \n",
              "Menos de 22 semanas     1     0     1     0     0     0     0     1     0   \n",
              "\n",
              "APGAR5                9.0   10.0  \n",
              "GESTACAO                          \n",
              "22 a 27 semanas         19     8  \n",
              "28 a 31 semanas         55    13  \n",
              "32 a 36 semanas       1307   465  \n",
              "37 a 41 semanas      13565  7284  \n",
              "42 semanas e mais      423   223  \n",
              "Menos de 22 semanas      3     1  "
            ],
            "text/html": [
              "\n",
              "  <div id=\"df-d0e3506e-4257-4f49-83b9-28d1844b6186\">\n",
              "    <div class=\"colab-df-container\">\n",
              "      <div>\n",
              "<style scoped>\n",
              "    .dataframe tbody tr th:only-of-type {\n",
              "        vertical-align: middle;\n",
              "    }\n",
              "\n",
              "    .dataframe tbody tr th {\n",
              "        vertical-align: top;\n",
              "    }\n",
              "\n",
              "    .dataframe thead th {\n",
              "        text-align: right;\n",
              "    }\n",
              "</style>\n",
              "<table border=\"1\" class=\"dataframe\">\n",
              "  <thead>\n",
              "    <tr style=\"text-align: right;\">\n",
              "      <th>APGAR5</th>\n",
              "      <th>0.0</th>\n",
              "      <th>1.0</th>\n",
              "      <th>2.0</th>\n",
              "      <th>3.0</th>\n",
              "      <th>4.0</th>\n",
              "      <th>5.0</th>\n",
              "      <th>6.0</th>\n",
              "      <th>7.0</th>\n",
              "      <th>8.0</th>\n",
              "      <th>9.0</th>\n",
              "      <th>10.0</th>\n",
              "    </tr>\n",
              "    <tr>\n",
              "      <th>GESTACAO</th>\n",
              "      <th></th>\n",
              "      <th></th>\n",
              "      <th></th>\n",
              "      <th></th>\n",
              "      <th></th>\n",
              "      <th></th>\n",
              "      <th></th>\n",
              "      <th></th>\n",
              "      <th></th>\n",
              "      <th></th>\n",
              "      <th></th>\n",
              "    </tr>\n",
              "  </thead>\n",
              "  <tbody>\n",
              "    <tr>\n",
              "      <th>22 a 27 semanas</th>\n",
              "      <td>7</td>\n",
              "      <td>0</td>\n",
              "      <td>8</td>\n",
              "      <td>6</td>\n",
              "      <td>1</td>\n",
              "      <td>0</td>\n",
              "      <td>2</td>\n",
              "      <td>10</td>\n",
              "      <td>24</td>\n",
              "      <td>19</td>\n",
              "      <td>8</td>\n",
              "    </tr>\n",
              "    <tr>\n",
              "      <th>28 a 31 semanas</th>\n",
              "      <td>0</td>\n",
              "      <td>0</td>\n",
              "      <td>2</td>\n",
              "      <td>1</td>\n",
              "      <td>5</td>\n",
              "      <td>7</td>\n",
              "      <td>7</td>\n",
              "      <td>11</td>\n",
              "      <td>61</td>\n",
              "      <td>55</td>\n",
              "      <td>13</td>\n",
              "    </tr>\n",
              "    <tr>\n",
              "      <th>32 a 36 semanas</th>\n",
              "      <td>2</td>\n",
              "      <td>2</td>\n",
              "      <td>2</td>\n",
              "      <td>2</td>\n",
              "      <td>8</td>\n",
              "      <td>11</td>\n",
              "      <td>17</td>\n",
              "      <td>56</td>\n",
              "      <td>362</td>\n",
              "      <td>1307</td>\n",
              "      <td>465</td>\n",
              "    </tr>\n",
              "    <tr>\n",
              "      <th>37 a 41 semanas</th>\n",
              "      <td>5</td>\n",
              "      <td>20</td>\n",
              "      <td>3</td>\n",
              "      <td>5</td>\n",
              "      <td>7</td>\n",
              "      <td>21</td>\n",
              "      <td>45</td>\n",
              "      <td>151</td>\n",
              "      <td>1417</td>\n",
              "      <td>13565</td>\n",
              "      <td>7284</td>\n",
              "    </tr>\n",
              "    <tr>\n",
              "      <th>42 semanas e mais</th>\n",
              "      <td>1</td>\n",
              "      <td>0</td>\n",
              "      <td>0</td>\n",
              "      <td>0</td>\n",
              "      <td>0</td>\n",
              "      <td>1</td>\n",
              "      <td>1</td>\n",
              "      <td>5</td>\n",
              "      <td>44</td>\n",
              "      <td>423</td>\n",
              "      <td>223</td>\n",
              "    </tr>\n",
              "    <tr>\n",
              "      <th>Menos de 22 semanas</th>\n",
              "      <td>1</td>\n",
              "      <td>0</td>\n",
              "      <td>1</td>\n",
              "      <td>0</td>\n",
              "      <td>0</td>\n",
              "      <td>0</td>\n",
              "      <td>0</td>\n",
              "      <td>1</td>\n",
              "      <td>0</td>\n",
              "      <td>3</td>\n",
              "      <td>1</td>\n",
              "    </tr>\n",
              "  </tbody>\n",
              "</table>\n",
              "</div>\n",
              "      <button class=\"colab-df-convert\" onclick=\"convertToInteractive('df-d0e3506e-4257-4f49-83b9-28d1844b6186')\"\n",
              "              title=\"Convert this dataframe to an interactive table.\"\n",
              "              style=\"display:none;\">\n",
              "        \n",
              "  <svg xmlns=\"http://www.w3.org/2000/svg\" height=\"24px\"viewBox=\"0 0 24 24\"\n",
              "       width=\"24px\">\n",
              "    <path d=\"M0 0h24v24H0V0z\" fill=\"none\"/>\n",
              "    <path d=\"M18.56 5.44l.94 2.06.94-2.06 2.06-.94-2.06-.94-.94-2.06-.94 2.06-2.06.94zm-11 1L8.5 8.5l.94-2.06 2.06-.94-2.06-.94L8.5 2.5l-.94 2.06-2.06.94zm10 10l.94 2.06.94-2.06 2.06-.94-2.06-.94-.94-2.06-.94 2.06-2.06.94z\"/><path d=\"M17.41 7.96l-1.37-1.37c-.4-.4-.92-.59-1.43-.59-.52 0-1.04.2-1.43.59L10.3 9.45l-7.72 7.72c-.78.78-.78 2.05 0 2.83L4 21.41c.39.39.9.59 1.41.59.51 0 1.02-.2 1.41-.59l7.78-7.78 2.81-2.81c.8-.78.8-2.07 0-2.86zM5.41 20L4 18.59l7.72-7.72 1.47 1.35L5.41 20z\"/>\n",
              "  </svg>\n",
              "      </button>\n",
              "      \n",
              "  <style>\n",
              "    .colab-df-container {\n",
              "      display:flex;\n",
              "      flex-wrap:wrap;\n",
              "      gap: 12px;\n",
              "    }\n",
              "\n",
              "    .colab-df-convert {\n",
              "      background-color: #E8F0FE;\n",
              "      border: none;\n",
              "      border-radius: 50%;\n",
              "      cursor: pointer;\n",
              "      display: none;\n",
              "      fill: #1967D2;\n",
              "      height: 32px;\n",
              "      padding: 0 0 0 0;\n",
              "      width: 32px;\n",
              "    }\n",
              "\n",
              "    .colab-df-convert:hover {\n",
              "      background-color: #E2EBFA;\n",
              "      box-shadow: 0px 1px 2px rgba(60, 64, 67, 0.3), 0px 1px 3px 1px rgba(60, 64, 67, 0.15);\n",
              "      fill: #174EA6;\n",
              "    }\n",
              "\n",
              "    [theme=dark] .colab-df-convert {\n",
              "      background-color: #3B4455;\n",
              "      fill: #D2E3FC;\n",
              "    }\n",
              "\n",
              "    [theme=dark] .colab-df-convert:hover {\n",
              "      background-color: #434B5C;\n",
              "      box-shadow: 0px 1px 3px 1px rgba(0, 0, 0, 0.15);\n",
              "      filter: drop-shadow(0px 1px 2px rgba(0, 0, 0, 0.3));\n",
              "      fill: #FFFFFF;\n",
              "    }\n",
              "  </style>\n",
              "\n",
              "      <script>\n",
              "        const buttonEl =\n",
              "          document.querySelector('#df-d0e3506e-4257-4f49-83b9-28d1844b6186 button.colab-df-convert');\n",
              "        buttonEl.style.display =\n",
              "          google.colab.kernel.accessAllowed ? 'block' : 'none';\n",
              "\n",
              "        async function convertToInteractive(key) {\n",
              "          const element = document.querySelector('#df-d0e3506e-4257-4f49-83b9-28d1844b6186');\n",
              "          const dataTable =\n",
              "            await google.colab.kernel.invokeFunction('convertToInteractive',\n",
              "                                                     [key], {});\n",
              "          if (!dataTable) return;\n",
              "\n",
              "          const docLinkHtml = 'Like what you see? Visit the ' +\n",
              "            '<a target=\"_blank\" href=https://colab.research.google.com/notebooks/data_table.ipynb>data table notebook</a>'\n",
              "            + ' to learn more about interactive tables.';\n",
              "          element.innerHTML = '';\n",
              "          dataTable['output_type'] = 'display_data';\n",
              "          await google.colab.output.renderOutput(dataTable, element);\n",
              "          const docLink = document.createElement('div');\n",
              "          docLink.innerHTML = docLinkHtml;\n",
              "          element.appendChild(docLink);\n",
              "        }\n",
              "      </script>\n",
              "    </div>\n",
              "  </div>\n",
              "  "
            ]
          },
          "metadata": {},
          "execution_count": 5
        }
      ],
      "source": [
        "freq = pd.crosstab(df['GESTACAO'], df['APGAR5'])\n",
        "freq"
      ]
    },
    {
      "cell_type": "markdown",
      "metadata": {
        "id": "o3yRXxuzJIAt"
      },
      "source": [
        "####  5) Da tabela cruzada do intem anterior, calcule os percentuais de linha. Ou seja, a distribuição da variável APGAR5 para cada classe de GESTACAO dado."
      ]
    },
    {
      "cell_type": "code",
      "execution_count": 6,
      "metadata": {
        "colab": {
          "base_uri": "https://localhost:8080/",
          "height": 269
        },
        "id": "QastDA2cJIAv",
        "outputId": "0a891b26-8eed-4ef0-b665-a92555427b2f"
      },
      "outputs": [
        {
          "output_type": "execute_result",
          "data": {
            "text/plain": [
              "APGAR5                   0.0       1.0       2.0       3.0       4.0   \\\n",
              "GESTACAO                                                                \n",
              "22 a 27 semanas      0.082353  0.000000  0.094118  0.070588  0.011765   \n",
              "28 a 31 semanas      0.000000  0.000000  0.012346  0.006173  0.030864   \n",
              "32 a 36 semanas      0.000895  0.000895  0.000895  0.000895  0.003581   \n",
              "37 a 41 semanas      0.000222  0.000888  0.000133  0.000222  0.000311   \n",
              "42 semanas e mais    0.001433  0.000000  0.000000  0.000000  0.000000   \n",
              "Menos de 22 semanas  0.142857  0.000000  0.142857  0.000000  0.000000   \n",
              "\n",
              "APGAR5                   5.0       6.0       7.0       8.0       9.0   \\\n",
              "GESTACAO                                                                \n",
              "22 a 27 semanas      0.000000  0.023529  0.117647  0.282353  0.223529   \n",
              "28 a 31 semanas      0.043210  0.043210  0.067901  0.376543  0.339506   \n",
              "32 a 36 semanas      0.004924  0.007610  0.025067  0.162041  0.585049   \n",
              "37 a 41 semanas      0.000932  0.001998  0.006704  0.062913  0.602273   \n",
              "42 semanas e mais    0.001433  0.001433  0.007163  0.063037  0.606017   \n",
              "Menos de 22 semanas  0.000000  0.000000  0.142857  0.000000  0.428571   \n",
              "\n",
              "APGAR5                   10.0  \n",
              "GESTACAO                       \n",
              "22 a 27 semanas      0.094118  \n",
              "28 a 31 semanas      0.080247  \n",
              "32 a 36 semanas      0.208147  \n",
              "37 a 41 semanas      0.323403  \n",
              "42 semanas e mais    0.319484  \n",
              "Menos de 22 semanas  0.142857  "
            ],
            "text/html": [
              "\n",
              "  <div id=\"df-dbba2513-3393-40d9-9412-babae790f690\">\n",
              "    <div class=\"colab-df-container\">\n",
              "      <div>\n",
              "<style scoped>\n",
              "    .dataframe tbody tr th:only-of-type {\n",
              "        vertical-align: middle;\n",
              "    }\n",
              "\n",
              "    .dataframe tbody tr th {\n",
              "        vertical-align: top;\n",
              "    }\n",
              "\n",
              "    .dataframe thead th {\n",
              "        text-align: right;\n",
              "    }\n",
              "</style>\n",
              "<table border=\"1\" class=\"dataframe\">\n",
              "  <thead>\n",
              "    <tr style=\"text-align: right;\">\n",
              "      <th>APGAR5</th>\n",
              "      <th>0.0</th>\n",
              "      <th>1.0</th>\n",
              "      <th>2.0</th>\n",
              "      <th>3.0</th>\n",
              "      <th>4.0</th>\n",
              "      <th>5.0</th>\n",
              "      <th>6.0</th>\n",
              "      <th>7.0</th>\n",
              "      <th>8.0</th>\n",
              "      <th>9.0</th>\n",
              "      <th>10.0</th>\n",
              "    </tr>\n",
              "    <tr>\n",
              "      <th>GESTACAO</th>\n",
              "      <th></th>\n",
              "      <th></th>\n",
              "      <th></th>\n",
              "      <th></th>\n",
              "      <th></th>\n",
              "      <th></th>\n",
              "      <th></th>\n",
              "      <th></th>\n",
              "      <th></th>\n",
              "      <th></th>\n",
              "      <th></th>\n",
              "    </tr>\n",
              "  </thead>\n",
              "  <tbody>\n",
              "    <tr>\n",
              "      <th>22 a 27 semanas</th>\n",
              "      <td>0.082353</td>\n",
              "      <td>0.000000</td>\n",
              "      <td>0.094118</td>\n",
              "      <td>0.070588</td>\n",
              "      <td>0.011765</td>\n",
              "      <td>0.000000</td>\n",
              "      <td>0.023529</td>\n",
              "      <td>0.117647</td>\n",
              "      <td>0.282353</td>\n",
              "      <td>0.223529</td>\n",
              "      <td>0.094118</td>\n",
              "    </tr>\n",
              "    <tr>\n",
              "      <th>28 a 31 semanas</th>\n",
              "      <td>0.000000</td>\n",
              "      <td>0.000000</td>\n",
              "      <td>0.012346</td>\n",
              "      <td>0.006173</td>\n",
              "      <td>0.030864</td>\n",
              "      <td>0.043210</td>\n",
              "      <td>0.043210</td>\n",
              "      <td>0.067901</td>\n",
              "      <td>0.376543</td>\n",
              "      <td>0.339506</td>\n",
              "      <td>0.080247</td>\n",
              "    </tr>\n",
              "    <tr>\n",
              "      <th>32 a 36 semanas</th>\n",
              "      <td>0.000895</td>\n",
              "      <td>0.000895</td>\n",
              "      <td>0.000895</td>\n",
              "      <td>0.000895</td>\n",
              "      <td>0.003581</td>\n",
              "      <td>0.004924</td>\n",
              "      <td>0.007610</td>\n",
              "      <td>0.025067</td>\n",
              "      <td>0.162041</td>\n",
              "      <td>0.585049</td>\n",
              "      <td>0.208147</td>\n",
              "    </tr>\n",
              "    <tr>\n",
              "      <th>37 a 41 semanas</th>\n",
              "      <td>0.000222</td>\n",
              "      <td>0.000888</td>\n",
              "      <td>0.000133</td>\n",
              "      <td>0.000222</td>\n",
              "      <td>0.000311</td>\n",
              "      <td>0.000932</td>\n",
              "      <td>0.001998</td>\n",
              "      <td>0.006704</td>\n",
              "      <td>0.062913</td>\n",
              "      <td>0.602273</td>\n",
              "      <td>0.323403</td>\n",
              "    </tr>\n",
              "    <tr>\n",
              "      <th>42 semanas e mais</th>\n",
              "      <td>0.001433</td>\n",
              "      <td>0.000000</td>\n",
              "      <td>0.000000</td>\n",
              "      <td>0.000000</td>\n",
              "      <td>0.000000</td>\n",
              "      <td>0.001433</td>\n",
              "      <td>0.001433</td>\n",
              "      <td>0.007163</td>\n",
              "      <td>0.063037</td>\n",
              "      <td>0.606017</td>\n",
              "      <td>0.319484</td>\n",
              "    </tr>\n",
              "    <tr>\n",
              "      <th>Menos de 22 semanas</th>\n",
              "      <td>0.142857</td>\n",
              "      <td>0.000000</td>\n",
              "      <td>0.142857</td>\n",
              "      <td>0.000000</td>\n",
              "      <td>0.000000</td>\n",
              "      <td>0.000000</td>\n",
              "      <td>0.000000</td>\n",
              "      <td>0.142857</td>\n",
              "      <td>0.000000</td>\n",
              "      <td>0.428571</td>\n",
              "      <td>0.142857</td>\n",
              "    </tr>\n",
              "  </tbody>\n",
              "</table>\n",
              "</div>\n",
              "      <button class=\"colab-df-convert\" onclick=\"convertToInteractive('df-dbba2513-3393-40d9-9412-babae790f690')\"\n",
              "              title=\"Convert this dataframe to an interactive table.\"\n",
              "              style=\"display:none;\">\n",
              "        \n",
              "  <svg xmlns=\"http://www.w3.org/2000/svg\" height=\"24px\"viewBox=\"0 0 24 24\"\n",
              "       width=\"24px\">\n",
              "    <path d=\"M0 0h24v24H0V0z\" fill=\"none\"/>\n",
              "    <path d=\"M18.56 5.44l.94 2.06.94-2.06 2.06-.94-2.06-.94-.94-2.06-.94 2.06-2.06.94zm-11 1L8.5 8.5l.94-2.06 2.06-.94-2.06-.94L8.5 2.5l-.94 2.06-2.06.94zm10 10l.94 2.06.94-2.06 2.06-.94-2.06-.94-.94-2.06-.94 2.06-2.06.94z\"/><path d=\"M17.41 7.96l-1.37-1.37c-.4-.4-.92-.59-1.43-.59-.52 0-1.04.2-1.43.59L10.3 9.45l-7.72 7.72c-.78.78-.78 2.05 0 2.83L4 21.41c.39.39.9.59 1.41.59.51 0 1.02-.2 1.41-.59l7.78-7.78 2.81-2.81c.8-.78.8-2.07 0-2.86zM5.41 20L4 18.59l7.72-7.72 1.47 1.35L5.41 20z\"/>\n",
              "  </svg>\n",
              "      </button>\n",
              "      \n",
              "  <style>\n",
              "    .colab-df-container {\n",
              "      display:flex;\n",
              "      flex-wrap:wrap;\n",
              "      gap: 12px;\n",
              "    }\n",
              "\n",
              "    .colab-df-convert {\n",
              "      background-color: #E8F0FE;\n",
              "      border: none;\n",
              "      border-radius: 50%;\n",
              "      cursor: pointer;\n",
              "      display: none;\n",
              "      fill: #1967D2;\n",
              "      height: 32px;\n",
              "      padding: 0 0 0 0;\n",
              "      width: 32px;\n",
              "    }\n",
              "\n",
              "    .colab-df-convert:hover {\n",
              "      background-color: #E2EBFA;\n",
              "      box-shadow: 0px 1px 2px rgba(60, 64, 67, 0.3), 0px 1px 3px 1px rgba(60, 64, 67, 0.15);\n",
              "      fill: #174EA6;\n",
              "    }\n",
              "\n",
              "    [theme=dark] .colab-df-convert {\n",
              "      background-color: #3B4455;\n",
              "      fill: #D2E3FC;\n",
              "    }\n",
              "\n",
              "    [theme=dark] .colab-df-convert:hover {\n",
              "      background-color: #434B5C;\n",
              "      box-shadow: 0px 1px 3px 1px rgba(0, 0, 0, 0.15);\n",
              "      filter: drop-shadow(0px 1px 2px rgba(0, 0, 0, 0.3));\n",
              "      fill: #FFFFFF;\n",
              "    }\n",
              "  </style>\n",
              "\n",
              "      <script>\n",
              "        const buttonEl =\n",
              "          document.querySelector('#df-dbba2513-3393-40d9-9412-babae790f690 button.colab-df-convert');\n",
              "        buttonEl.style.display =\n",
              "          google.colab.kernel.accessAllowed ? 'block' : 'none';\n",
              "\n",
              "        async function convertToInteractive(key) {\n",
              "          const element = document.querySelector('#df-dbba2513-3393-40d9-9412-babae790f690');\n",
              "          const dataTable =\n",
              "            await google.colab.kernel.invokeFunction('convertToInteractive',\n",
              "                                                     [key], {});\n",
              "          if (!dataTable) return;\n",
              "\n",
              "          const docLinkHtml = 'Like what you see? Visit the ' +\n",
              "            '<a target=\"_blank\" href=https://colab.research.google.com/notebooks/data_table.ipynb>data table notebook</a>'\n",
              "            + ' to learn more about interactive tables.';\n",
              "          element.innerHTML = '';\n",
              "          dataTable['output_type'] = 'display_data';\n",
              "          await google.colab.output.renderOutput(dataTable, element);\n",
              "          const docLink = document.createElement('div');\n",
              "          docLink.innerHTML = docLinkHtml;\n",
              "          element.appendChild(docLink);\n",
              "        }\n",
              "      </script>\n",
              "    </div>\n",
              "  </div>\n",
              "  "
            ]
          },
          "metadata": {},
          "execution_count": 6
        }
      ],
      "source": [
        "per_apg_gest = freq.div(freq.sum(axis = 1), axis = 0)\n",
        "per_apg_gest"
      ]
    },
    {
      "cell_type": "markdown",
      "metadata": {
        "id": "vbAGbkdZJIA1"
      },
      "source": [
        "####  6) Os médicos costumam classificar parto prematuro quando a gestação tem menos que 37 semanas. Faça um gráfico de barras da tabela cruzada acima e conclua se você acha que este conjunto de dados corrobora ou não com a afirmação dos médicos."
      ]
    },
    {
      "cell_type": "code",
      "source": [
        "new_per_apg_gest = per_apg_gest.reset_index()"
      ],
      "metadata": {
        "id": "ojfwH2f7TEuJ"
      },
      "execution_count": 7,
      "outputs": []
    },
    {
      "cell_type": "code",
      "execution_count": 8,
      "metadata": {
        "colab": {
          "base_uri": "https://localhost:8080/",
          "height": 602
        },
        "id": "H0TC2tXnJIA5",
        "outputId": "1eb106db-d20d-4106-cb1a-aa1a257467f0"
      },
      "outputs": [
        {
          "output_type": "execute_result",
          "data": {
            "text/plain": [
              "<seaborn.axisgrid.FacetGrid at 0x7fe03c314410>"
            ]
          },
          "metadata": {},
          "execution_count": 8
        },
        {
          "output_type": "display_data",
          "data": {
            "text/plain": [
              "<Figure size 864x576 with 6 Axes>"
            ],
            "image/png": "[encoded data removed]"
          },
          "metadata": {}
        }
      ],
      "source": [
        "sns.set_style('ticks')\n",
        "sns.catplot(data=new_per_apg_gest, col='GESTACAO', col_wrap=3, kind='bar', height=4, aspect=1)"
      ]
    },
    {
      "cell_type": "markdown",
      "source": [
        "Analisando o gráfico acima podemos tirar a conclusão de que em gestações com tempo maior do que 37 semanas são mais seguras, possuindo um `APGAR5` mais estável entre 7 e 10. Conforme o tempo de gestação diminui, a ocorrência de níveis mais baixo de `APGAR5` se fazem mais presentes. Em gestações com menos de abaixo de 28 semanas, conseguimos ver uma incidência considerável de asfixias graves."
      ],
      "metadata": {
        "id": "42NdbErzT1VI"
      }
    },
    {
      "cell_type": "markdown",
      "metadata": {
        "id": "DBm8cZrlJIA9"
      },
      "source": [
        "#### 7) Veja se há relação entre APGAR5 e o peso do bebê. Isso pode ser feito de diversas formas. Fique à vontade para escolher a melhor maneira na sua opinião, ou até testar mais de um dos gráficos que vimos. Fique à vontade também para consultar a documentação e utilizar algum outro recurso se achar conveniente."
      ]
    },
    {
      "cell_type": "code",
      "source": [
        "sns.catplot(x='APGAR5', y='PESO', data=df, kind='bar', ci=False)"
      ],
      "metadata": {
        "colab": {
          "base_uri": "https://localhost:8080/",
          "height": 386
        },
        "id": "ZeZNnz0vW4bi",
        "outputId": "cf4a9708-02a9-4686-fa58-29ce7d3f8cbf"
      },
      "execution_count": 67,
      "outputs": [
        {
          "output_type": "execute_result",
          "data": {
            "text/plain": [
              "<seaborn.axisgrid.FacetGrid at 0x7fe036705290>"
            ]
          },
          "metadata": {},
          "execution_count": 67
        },
        {
          "output_type": "display_data",
          "data": {
            "text/plain": [
              "<Figure size 360x360 with 1 Axes>"
            ],
            "image/png": "[encoded data removed]"
          },
          "metadata": {}
        }
      ]
    },
    {
      "cell_type": "code",
      "source": [
        "sns.boxplot(x='APGAR5', y='PESO', data=df)"
      ],
      "metadata": {
        "colab": {
          "base_uri": "https://localhost:8080/",
          "height": 296
        },
        "id": "I5cjar85cR3o",
        "outputId": "f7bab7f5-cc9c-4665-f9fe-4b44964d136e"
      },
      "execution_count": 65,
      "outputs": [
        {
          "output_type": "execute_result",
          "data": {
            "text/plain": [
              "<matplotlib.axes._subplots.AxesSubplot at 0x7fe036a27e90>"
            ]
          },
          "metadata": {},
          "execution_count": 65
        },
        {
          "output_type": "display_data",
          "data": {
            "text/plain": [
              "<Figure size 432x288 with 1 Axes>"
            ],
            "image/png": "[encoded data removed]"
          },
          "metadata": {}
        }
      ]
    },
    {
      "cell_type": "markdown",
      "source": [
        "Podemos ver que temos um padrão: quanto maior o `PESO`, maior o `APGAR5`, e, consequentemente mais saudável o bêbe. Temos um provável ponto muito fora da curva que é o `PESO` comparado com o `APGAR5` de valor 1. Sendo quase tão frequente grande quanto os melhores valores de `APGAR5`."
      ],
      "metadata": {
        "id": "Dr7CFBsPcOMg"
      }
    }
  ],
  "metadata": {
    "kernelspec": {
      "display_name": "Python 3 (ipykernel)",
      "language": "python",
      "name": "python3"
    },
    "language_info": {
      "codemirror_mode": {
        "name": "ipython",
        "version": 3
      },
      "file_extension": ".py",
      "mimetype": "text/x-python",
      "name": "python",
      "nbconvert_exporter": "python",
      "pygments_lexer": "ipython3",
      "version": "3.9.12"
    },
    "colab": {
      "provenance": [],
      "collapsed_sections": []
    }
  },
  "nbformat": 4,
  "nbformat_minor": 0
}